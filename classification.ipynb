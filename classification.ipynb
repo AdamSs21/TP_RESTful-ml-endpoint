{
 "cells": [
  {
   "cell_type": "markdown",
   "metadata": {
    "id": "jYysdyb-CaWM"
   },
   "source": [
    "# Basic classification: Classify images of clothing"
   ]
  },
  {
   "cell_type": "code",
   "execution_count": 7,
   "metadata": {
    "execution": {
     "iopub.execute_input": "2022-12-14T06:37:28.087024Z",
     "iopub.status.busy": "2022-12-14T06:37:28.086437Z",
     "iopub.status.idle": "2022-12-14T06:37:30.420566Z",
     "shell.execute_reply": "2022-12-14T06:37:30.419668Z"
    },
    "id": "dzLKpmZICaWN"
   },
   "outputs": [
    {
     "name": "stdout",
     "output_type": "stream",
     "text": [
      "2.11.0\n"
     ]
    }
   ],
   "source": [
    "# TensorFlow and tf.keras\n",
    "import tensorflow as tf\n",
    "\n",
    "# Helper libraries\n",
    "import numpy as np\n",
    "import matplotlib.pyplot as plt\n",
    "import pandas as pd\n",
    "\n",
    "print(tf.__version__)"
   ]
  },
  {
   "attachments": {},
   "cell_type": "markdown",
   "metadata": {
    "id": "yR0EdgrLCaWR"
   },
   "source": [
    "## Import the Fashion_mnist data"
   ]
  },
  {
   "cell_type": "code",
   "execution_count": 8,
   "metadata": {
    "execution": {
     "iopub.execute_input": "2022-12-14T06:37:30.424726Z",
     "iopub.status.busy": "2022-12-14T06:37:30.423977Z",
     "iopub.status.idle": "2022-12-14T06:37:30.823454Z",
     "shell.execute_reply": "2022-12-14T06:37:30.822553Z"
    },
    "id": "7MqDQO0KCaWS"
   },
   "outputs": [],
   "source": [
    "fashion_mnist_train_1 = pd.read_csv(\"data/fashion-mnist-train-1.csv\")\n",
    "train_labels = fashion_mnist_train_1[\"label\"]\n",
    "train_images = fashion_mnist_train_1.drop(columns =\"label\")\n",
    "\n",
    "fashion_mnist_train_2 = pd.read_csv(\"data/fashion-mnist-train-2.csv\")\n",
    "train_labels2 = fashion_mnist_train_2[\"label\"]\n",
    "train_images2 = fashion_mnist_train_2.drop(columns =\"label\")\n",
    "\n",
    "fashion_mnist_test = pd.read_csv(\"data/fashion-mnist_test.csv\")\n",
    "test_labels = fashion_mnist_train_1[\"label\"]\n",
    "test_images = fashion_mnist_train_1.drop(columns =\"label\")"
   ]
  },
  {
   "cell_type": "markdown",
   "metadata": {
    "id": "t9FDsUlxCaWW"
   },
   "source": [
    "Loading the dataset returns four NumPy arrays:\n",
    "\n",
    "* The `train_images` and `train_labels` arrays are the *training set*—the data the model uses to learn.\n",
    "* The model is tested against the *test set*, the `test_images`, and `test_labels` arrays.\n",
    "\n",
    "The images are 28x28 NumPy arrays, with pixel values ranging from 0 to 255. The *labels* are an array of integers, ranging from 0 to 9. These correspond to the *class* of clothing the image represents:\n",
    "\n",
    "<table>\n",
    "  <tr>\n",
    "    <th>Label</th>\n",
    "    <th>Class</th>\n",
    "  </tr>\n",
    "  <tr>\n",
    "    <td>0</td>\n",
    "    <td>T-shirt/top</td>\n",
    "  </tr>\n",
    "  <tr>\n",
    "    <td>1</td>\n",
    "    <td>Trouser</td>\n",
    "  </tr>\n",
    "    <tr>\n",
    "    <td>2</td>\n",
    "    <td>Pullover</td>\n",
    "  </tr>\n",
    "    <tr>\n",
    "    <td>3</td>\n",
    "    <td>Dress</td>\n",
    "  </tr>\n",
    "    <tr>\n",
    "    <td>4</td>\n",
    "    <td>Coat</td>\n",
    "  </tr>\n",
    "    <tr>\n",
    "    <td>5</td>\n",
    "    <td>Sandal</td>\n",
    "  </tr>\n",
    "    <tr>\n",
    "    <td>6</td>\n",
    "    <td>Shirt</td>\n",
    "  </tr>\n",
    "    <tr>\n",
    "    <td>7</td>\n",
    "    <td>Sneaker</td>\n",
    "  </tr>\n",
    "    <tr>\n",
    "    <td>8</td>\n",
    "    <td>Bag</td>\n",
    "  </tr>\n",
    "    <tr>\n",
    "    <td>9</td>\n",
    "    <td>Ankle boot</td>\n",
    "  </tr>\n",
    "</table>\n",
    "\n",
    "Each image is mapped to a single label. Since the *class names* are not included with the dataset, store them here to use later when plotting the images:"
   ]
  },
  {
   "cell_type": "code",
   "execution_count": 9,
   "metadata": {
    "execution": {
     "iopub.execute_input": "2022-12-14T06:37:30.827771Z",
     "iopub.status.busy": "2022-12-14T06:37:30.827133Z",
     "iopub.status.idle": "2022-12-14T06:37:30.830995Z",
     "shell.execute_reply": "2022-12-14T06:37:30.830101Z"
    },
    "id": "IjnLH5S2CaWx"
   },
   "outputs": [],
   "source": [
    "class_names = ['T-shirt/top', 'Trouser', 'Pullover', 'Dress', 'Coat',\n",
    "               'Sandal', 'Shirt', 'Sneaker', 'Bag', 'Ankle boot']"
   ]
  },
  {
   "cell_type": "markdown",
   "metadata": {
    "id": "Brm0b_KACaWX"
   },
   "source": [
    "## Explore the data\n",
    "\n",
    "Let's explore the format of the dataset before training the model. The following shows there are 60,000 images in the training set, with each image represented as 28 x 28 pixels:"
   ]
  },
  {
   "cell_type": "code",
   "execution_count": 10,
   "metadata": {
    "execution": {
     "iopub.execute_input": "2022-12-14T06:37:30.834778Z",
     "iopub.status.busy": "2022-12-14T06:37:30.834026Z",
     "iopub.status.idle": "2022-12-14T06:37:30.840422Z",
     "shell.execute_reply": "2022-12-14T06:37:30.839670Z"
    },
    "id": "zW5k_xz1CaWX"
   },
   "outputs": [
    {
     "data": {
      "text/plain": [
       "(14999, 785)"
      ]
     },
     "execution_count": 10,
     "metadata": {},
     "output_type": "execute_result"
    }
   ],
   "source": [
    "fashion_mnist_train_1.shape"
   ]
  },
  {
   "cell_type": "markdown",
   "metadata": {
    "id": "cIAcvQqMCaWf"
   },
   "source": [
    "Likewise, there are 60,000 labels in the training set:"
   ]
  },
  {
   "cell_type": "code",
   "execution_count": 11,
   "metadata": {
    "execution": {
     "iopub.execute_input": "2022-12-14T06:37:30.844731Z",
     "iopub.status.busy": "2022-12-14T06:37:30.844100Z",
     "iopub.status.idle": "2022-12-14T06:37:30.848750Z",
     "shell.execute_reply": "2022-12-14T06:37:30.847931Z"
    },
    "id": "TRFYHB2mCaWb"
   },
   "outputs": [
    {
     "data": {
      "text/plain": [
       "14999"
      ]
     },
     "execution_count": 11,
     "metadata": {},
     "output_type": "execute_result"
    }
   ],
   "source": [
    "len(train_labels)"
   ]
  },
  {
   "cell_type": "code",
   "execution_count": 12,
   "metadata": {},
   "outputs": [
    {
     "data": {
      "text/plain": [
       "14999"
      ]
     },
     "execution_count": 12,
     "metadata": {},
     "output_type": "execute_result"
    }
   ],
   "source": [
    "len(train_images)"
   ]
  },
  {
   "cell_type": "markdown",
   "metadata": {
    "id": "YSlYxFuRCaWk"
   },
   "source": [
    "Each label is an integer between 0 and 9:"
   ]
  },
  {
   "cell_type": "code",
   "execution_count": 13,
   "metadata": {
    "execution": {
     "iopub.execute_input": "2022-12-14T06:37:30.852198Z",
     "iopub.status.busy": "2022-12-14T06:37:30.851618Z",
     "iopub.status.idle": "2022-12-14T06:37:30.856468Z",
     "shell.execute_reply": "2022-12-14T06:37:30.855714Z"
    },
    "id": "XKnCTHz4CaWg"
   },
   "outputs": [
    {
     "data": {
      "text/plain": [
       "0        2\n",
       "1        9\n",
       "2        6\n",
       "3        0\n",
       "4        3\n",
       "        ..\n",
       "14994    4\n",
       "14995    4\n",
       "14996    0\n",
       "14997    4\n",
       "14998    2\n",
       "Name: label, Length: 14999, dtype: int64"
      ]
     },
     "execution_count": 13,
     "metadata": {},
     "output_type": "execute_result"
    }
   ],
   "source": [
    "train_labels"
   ]
  },
  {
   "cell_type": "markdown",
   "metadata": {
    "id": "ES6uQoLKCaWr"
   },
   "source": [
    "## Preprocess the data\n",
    "\n",
    "The data must be preprocessed before training the network. If you inspect the first image in the training set, you will see that the pixel values fall in the range of 0 to 255:"
   ]
  },
  {
   "cell_type": "markdown",
   "metadata": {
    "id": "Wz7l27Lz9S1P"
   },
   "source": [
    "Scale these values to a range of 0 to 1 before feeding them to the neural network model. To do so, divide the values by 255. It's important that the *training set* and the *testing set* be preprocessed in the same way:"
   ]
  },
  {
   "cell_type": "code",
   "execution_count": 15,
   "metadata": {
    "execution": {
     "iopub.execute_input": "2022-12-14T06:37:31.039688Z",
     "iopub.status.busy": "2022-12-14T06:37:31.039049Z",
     "iopub.status.idle": "2022-12-14T06:37:31.212723Z",
     "shell.execute_reply": "2022-12-14T06:37:31.211984Z"
    },
    "id": "bW5WzIPlCaWv"
   },
   "outputs": [],
   "source": [
    "train_images = train_images / 255.0\n",
    "train_images2 = train_images2 / 255.0"
   ]
  },
  {
   "cell_type": "markdown",
   "metadata": {
    "id": "Ee638AlnCaWz"
   },
   "source": [
    "To verify that the data is in the correct format and that you're ready to build and train the network, let's display the first 25 images from the *training set* and display the class name below each image."
   ]
  },
  {
   "cell_type": "markdown",
   "metadata": {
    "id": "59veuiEZCaW4"
   },
   "source": [
    "## Build the model\n",
    "\n",
    "Building the neural network requires configuring the layers of the model, then compiling the model."
   ]
  },
  {
   "cell_type": "markdown",
   "metadata": {
    "id": "Gxg1XGm0eOBy"
   },
   "source": [
    "### Set up the layers\n",
    "\n",
    "The basic building block of a neural network is the [*layer*](https://www.tensorflow.org/api_docs/python/tf/keras/layers). Layers extract representations from the data fed into them. Hopefully, these representations are meaningful for the problem at hand.\n",
    "\n",
    "Most of deep learning consists of chaining together simple layers. Most layers, such as `tf.keras.layers.Dense`, have parameters that are learned during training."
   ]
  },
  {
   "cell_type": "code",
   "execution_count": 16,
   "metadata": {},
   "outputs": [
    {
     "name": "stdout",
     "output_type": "stream",
     "text": [
      "14999\n",
      "29999\n"
     ]
    }
   ],
   "source": [
    "print(len(train_images))\n",
    "print(len(train_images2))"
   ]
  },
  {
   "cell_type": "code",
   "execution_count": 17,
   "metadata": {
    "execution": {
     "iopub.execute_input": "2022-12-14T06:37:31.910794Z",
     "iopub.status.busy": "2022-12-14T06:37:31.910145Z",
     "iopub.status.idle": "2022-12-14T06:37:35.441973Z",
     "shell.execute_reply": "2022-12-14T06:37:35.441176Z"
    },
    "id": "9ODch-OFCaW4"
   },
   "outputs": [
    {
     "name": "stderr",
     "output_type": "stream",
     "text": [
      "2023-01-28 19:00:53.665631: I tensorflow/core/platform/cpu_feature_guard.cc:193] This TensorFlow binary is optimized with oneAPI Deep Neural Network Library (oneDNN) to use the following CPU instructions in performance-critical operations:  AVX2 FMA\n",
      "To enable them in other operations, rebuild TensorFlow with the appropriate compiler flags.\n"
     ]
    }
   ],
   "source": [
    "model = tf.keras.Sequential([\n",
    "    tf.keras.layers.Dense(128, activation='relu'),\n",
    "    tf.keras.layers.Dense(10)\n",
    "])"
   ]
  },
  {
   "cell_type": "markdown",
   "metadata": {
    "id": "gut8A_7rCaW6"
   },
   "source": [
    "The first layer in this network, `tf.keras.layers.Flatten`, transforms the format of the images from a two-dimensional array (of 28 by 28 pixels) to a one-dimensional array (of 28 * 28 = 784 pixels). Think of this layer as unstacking rows of pixels in the image and lining them up. This layer has no parameters to learn; it only reformats the data.\n",
    "\n",
    "After the pixels are flattened, the network consists of a sequence of two `tf.keras.layers.Dense` layers. These are densely connected, or fully connected, neural layers. The first `Dense` layer has 128 nodes (or neurons). The second (and last) layer returns a logits array with length of 10. Each node contains a score that indicates the current image belongs to one of the 10 classes.\n",
    "\n",
    "### Compile the model\n",
    "\n",
    "Before the model is ready for training, it needs a few more settings. These are added during the model's [*compile*](https://www.tensorflow.org/api_docs/python/tf/keras/Model#compile) step:\n",
    "\n",
    "* [*Loss function*](https://www.tensorflow.org/api_docs/python/tf/keras/losses) —This measures how accurate the model is during training. You want to minimize this function to \"steer\" the model in the right direction.\n",
    "* [*Optimizer*](https://www.tensorflow.org/api_docs/python/tf/keras/optimizers) —This is how the model is updated based on the data it sees and its loss function.\n",
    "* [*Metrics*](https://www.tensorflow.org/api_docs/python/tf/keras/metrics) —Used to monitor the training and testing steps. The following example uses *accuracy*, the fraction of the images that are correctly classified."
   ]
  },
  {
   "cell_type": "code",
   "execution_count": 18,
   "metadata": {
    "execution": {
     "iopub.execute_input": "2022-12-14T06:37:35.446051Z",
     "iopub.status.busy": "2022-12-14T06:37:35.445790Z",
     "iopub.status.idle": "2022-12-14T06:37:35.459162Z",
     "shell.execute_reply": "2022-12-14T06:37:35.458566Z"
    },
    "id": "Lhan11blCaW7"
   },
   "outputs": [],
   "source": [
    "model.compile(optimizer='adam',\n",
    "\n",
    "              loss=tf.keras.losses.SparseCategoricalCrossentropy(from_logits=True),\n",
    "              metrics=['accuracy'])"
   ]
  },
  {
   "cell_type": "markdown",
   "metadata": {
    "id": "qKF6uW-BCaW-"
   },
   "source": [
    "## Train the model\n",
    "\n",
    "Training the neural network model requires the following steps:\n",
    "\n",
    "1. Feed the training data to the model. In this example, the training data is in the `train_images` and `train_labels` arrays.\n",
    "2. The model learns to associate images and labels.\n",
    "3. You ask the model to make predictions about a test set—in this example, the `test_images` array.\n",
    "4. Verify that the predictions match the labels from the `test_labels` array.\n"
   ]
  },
  {
   "attachments": {},
   "cell_type": "markdown",
   "metadata": {
    "id": "Z4P4zIV7E28Z"
   },
   "source": [
    "### Feed the model\n",
    "\n",
    "To start training, call the [`model.fit`](https://www.tensorflow.org/api_docs/python/tf/keras/Model#fit) method—so called because it \"fits\" the model to the training data."
   ]
  },
  {
   "attachments": {},
   "cell_type": "markdown",
   "metadata": {},
   "source": [
    "training the second train data_set because it contains more data."
   ]
  },
  {
   "cell_type": "code",
   "execution_count": 42,
   "metadata": {
    "execution": {
     "iopub.execute_input": "2022-12-14T06:37:35.462907Z",
     "iopub.status.busy": "2022-12-14T06:37:35.462237Z",
     "iopub.status.idle": "2022-12-14T06:38:15.225559Z",
     "shell.execute_reply": "2022-12-14T06:38:15.224722Z"
    },
    "id": "xvwvpA64CaW_"
   },
   "outputs": [
    {
     "name": "stdout",
     "output_type": "stream",
     "text": [
      "Epoch 1/10\n",
      "469/469 [==============================] - 1s 3ms/step - loss: 0.2570 - accuracy: 0.9111\n",
      "Epoch 2/10\n",
      "469/469 [==============================] - 1s 3ms/step - loss: 0.2567 - accuracy: 0.9101\n",
      "Epoch 3/10\n",
      "469/469 [==============================] - 1s 3ms/step - loss: 0.2562 - accuracy: 0.9123\n",
      "Epoch 4/10\n",
      "469/469 [==============================] - 2s 3ms/step - loss: 0.2555 - accuracy: 0.9105\n",
      "Epoch 5/10\n",
      "469/469 [==============================] - 1s 3ms/step - loss: 0.2558 - accuracy: 0.9114\n",
      "Epoch 6/10\n",
      "469/469 [==============================] - 1s 3ms/step - loss: 0.2546 - accuracy: 0.9123\n",
      "Epoch 7/10\n",
      "469/469 [==============================] - 1s 3ms/step - loss: 0.2538 - accuracy: 0.9115\n",
      "Epoch 8/10\n",
      "469/469 [==============================] - 1s 3ms/step - loss: 0.2532 - accuracy: 0.9128\n",
      "Epoch 9/10\n",
      "469/469 [==============================] - 1s 3ms/step - loss: 0.2528 - accuracy: 0.9126\n",
      "Epoch 10/10\n",
      "469/469 [==============================] - 1s 3ms/step - loss: 0.2524 - accuracy: 0.9122\n"
     ]
    },
    {
     "data": {
      "text/plain": [
       "<keras.callbacks.History at 0x15001c760>"
      ]
     },
     "execution_count": 42,
     "metadata": {},
     "output_type": "execute_result"
    }
   ],
   "source": [
    "model.fit(train_images, train_labels, epochs=10)"
   ]
  },
  {
   "cell_type": "markdown",
   "metadata": {
    "id": "W3ZVOhugCaXA"
   },
   "source": [
    "As the model trains, the loss and accuracy metrics are displayed. This model reaches an accuracy of about 0.91 (or 91%) on the training data."
   ]
  },
  {
   "cell_type": "markdown",
   "metadata": {
    "id": "wCpr6DGyE28h"
   },
   "source": [
    "### Evaluate accuracy\n",
    "\n",
    "Next, compare how the model performs on the test dataset:"
   ]
  },
  {
   "cell_type": "code",
   "execution_count": 43,
   "metadata": {
    "execution": {
     "iopub.execute_input": "2022-12-14T06:38:15.229593Z",
     "iopub.status.busy": "2022-12-14T06:38:15.228930Z",
     "iopub.status.idle": "2022-12-14T06:38:15.954035Z",
     "shell.execute_reply": "2022-12-14T06:38:15.953065Z"
    },
    "id": "VflXLEeECaXC"
   },
   "outputs": [
    {
     "name": "stdout",
     "output_type": "stream",
     "text": [
      "469/469 - 1s - loss: 18897.1621 - accuracy: 0.7441 - 612ms/epoch - 1ms/step\n",
      "\n",
      "Test accuracy: 0.7441162467002869\n"
     ]
    }
   ],
   "source": [
    "test_loss, test_acc = model.evaluate(test_images,  test_labels, verbose=2)\n",
    "\n",
    "print('\\nTest accuracy:', test_acc)"
   ]
  },
  {
   "cell_type": "markdown",
   "metadata": {
    "id": "yWfgsmVXCaXG"
   },
   "source": [
    "It turns out that the accuracy on the test dataset is a little less than the accuracy on the training dataset. This gap between training accuracy and test accuracy represents *overfitting*. Overfitting happens when a machine learning model performs worse on new, previously unseen inputs than it does on the training data. An overfitted model \"memorizes\" the noise and details in the training dataset to a point where it negatively impacts the performance of the model on the new data. For more information, see the following:\n",
    "*   [Demonstrate overfitting](https://www.tensorflow.org/tutorials/keras/overfit_and_underfit#demonstrate_overfitting)\n",
    "*   [Strategies to prevent overfitting](https://www.tensorflow.org/tutorials/keras/overfit_and_underfit#strategies_to_prevent_overfitting)"
   ]
  },
  {
   "cell_type": "markdown",
   "metadata": {
    "id": "v-PyD1SYE28q"
   },
   "source": [
    "### Make predictions\n",
    "\n",
    "With the model trained, you can use it to make predictions about some images.\n",
    "Attach a softmax layer to convert the model's linear outputs—[logits](https://developers.google.com/machine-learning/glossary#logits)—to probabilities, which should be easier to interpret."
   ]
  },
  {
   "cell_type": "code",
   "execution_count": 44,
   "metadata": {
    "execution": {
     "iopub.execute_input": "2022-12-14T06:38:15.957507Z",
     "iopub.status.busy": "2022-12-14T06:38:15.957221Z",
     "iopub.status.idle": "2022-12-14T06:38:15.977916Z",
     "shell.execute_reply": "2022-12-14T06:38:15.977193Z"
    },
    "id": "DnfNA0CrQLSD"
   },
   "outputs": [],
   "source": [
    "probability_model = tf.keras.Sequential([model, \n",
    "                                         tf.keras.layers.Softmax()])"
   ]
  },
  {
   "cell_type": "code",
   "execution_count": 45,
   "metadata": {
    "execution": {
     "iopub.execute_input": "2022-12-14T06:38:15.981531Z",
     "iopub.status.busy": "2022-12-14T06:38:15.980902Z",
     "iopub.status.idle": "2022-12-14T06:38:16.668476Z",
     "shell.execute_reply": "2022-12-14T06:38:16.667673Z"
    },
    "id": "Gl91RPhdCaXI"
   },
   "outputs": [
    {
     "name": "stdout",
     "output_type": "stream",
     "text": [
      "469/469 [==============================] - 1s 2ms/step\n"
     ]
    }
   ],
   "source": [
    "predictions = probability_model.predict(test_images)"
   ]
  },
  {
   "cell_type": "markdown",
   "metadata": {
    "id": "x9Kk1voUCaXJ"
   },
   "source": [
    "Here, the model has predicted the label for each image in the testing set. Let's take a look at the first prediction:"
   ]
  },
  {
   "cell_type": "markdown",
   "metadata": {
    "id": "-hw1hgeSCaXN"
   },
   "source": [
    "A prediction is an array of 10 numbers. They represent the model's \"confidence\" that the image corresponds to each of the 10 different articles of clothing. You can see which label has the highest confidence value:"
   ]
  },
  {
   "cell_type": "code",
   "execution_count": 46,
   "metadata": {},
   "outputs": [],
   "source": [
    "model.save('model_train.h5')"
   ]
  },
  {
   "cell_type": "code",
   "execution_count": 47,
   "metadata": {},
   "outputs": [
    {
     "name": "stdout",
     "output_type": "stream",
     "text": [
      "[[0.0, 0.0, 0.0, 0.0, 0.0, 0.0, 0.0, 0.0, 0.0, 0.0, 0.0, 0.0, 0.0, 0.0, 0.0, 0.0, 0.0, 0.0, 0.0, 0.0, 0.0, 0.0, 0.0, 0.0, 0.0, 0.0, 0.0, 0.0, 0.0, 0.0, 0.0, 0.0, 0.0, 0.0, 0.0, 0.0, 0.0, 0.0, 0.0, 0.0, 0.0, 0.0, 0.0, 0.0, 0.0, 0.0, 0.0, 0.0, 0.0, 0.0, 0.0, 0.0, 0.0, 0.0, 0.0, 0.0, 0.0, 0.0, 0.0, 0.0, 0.0, 0.0, 0.0, 0.0, 0.0, 0.0, 0.0, 0.0, 0.0, 0.0, 0.0, 0.0, 0.0, 0.0, 0.0, 0.0, 0.0, 0.0, 0.0, 0.0, 0.0, 0.0, 0.0, 0.0, 0.0, 0.0, 0.0, 0.0, 0.01568627450980392, 0.0, 0.0, 0.0, 0.0, 0.0, 0.24313725490196078, 0.23921568627450981, 0.08235294117647059, 0.11372549019607843, 0.09019607843137255, 0.2, 0.5333333333333333, 0.23921568627450981, 0.0, 0.0, 0.0, 0.0, 0.0, 0.0, 0.0, 0.0, 0.0, 0.0, 0.0, 0.0, 0.0, 0.0, 0.0, 0.0, 0.0, 0.34509803921568627, 0.788235294117647, 0.8941176470588236, 0.8823529411764706, 1.0, 0.45098039215686275, 0.24313725490196078, 0.5372549019607843, 1.0, 0.9215686274509803, 0.8705882352941177, 1.0, 0.5294117647058824, 0.0, 0.0, 0.0, 0.0, 0.0, 0.0, 0.0, 0.0, 0.0, 0.0, 0.0, 0.0, 0.0, 0.1843137254901961, 0.9882352941176471, 0.9176470588235294, 0.9333333333333333, 0.8784313725490196, 0.8431372549019608, 0.8431372549019608, 0.8980392156862745, 0.4235294117647059, 0.7058823529411765, 0.8117647058823529, 0.8392156862745098, 0.8784313725490196, 0.9058823529411765, 0.9764705882352941, 0.996078431372549, 0.17647058823529413, 0.0, 0.0, 0.0, 0.0, 0.0, 0.0, 0.0, 0.0, 0.00392156862745098, 0.0, 0.0, 0.8392156862745098, 0.8705882352941177, 0.8235294117647058, 0.8352941176470589, 0.8784313725490196, 0.8823529411764706, 0.8509803921568627, 0.8627450980392157, 0.996078431372549, 0.9137254901960784, 0.8588235294117647, 0.8666666666666667, 0.8509803921568627, 0.8745098039215686, 0.8666666666666667, 0.9411764705882353, 0.996078431372549, 0.0, 0.0, 0.00392156862745098, 0.0, 0.0, 0.0, 0.00392156862745098, 0.0, 0.0, 0.0, 0.5019607843137255, 0.9294117647058824, 0.8117647058823529, 0.8784313725490196, 0.8784313725490196, 0.8117647058823529, 0.8470588235294118, 0.8392156862745098, 0.8235294117647058, 0.8156862745098039, 0.8274509803921568, 0.8666666666666667, 0.8156862745098039, 0.8588235294117647, 0.8352941176470589, 0.8862745098039215, 0.8274509803921568, 0.9294117647058824, 0.5882352941176471, 0.0, 0.0, 0.0, 0.0, 0.0, 0.0, 0.00784313725490196, 0.0, 0.0, 0.9294117647058824, 0.8705882352941177, 0.8431372549019608, 0.8117647058823529, 0.8235294117647058, 0.8313725490196079, 0.8352941176470589, 0.807843137254902, 0.8392156862745098, 0.8352941176470589, 0.8392156862745098, 0.8352941176470589, 0.8235294117647058, 0.8431372549019608, 0.8392156862745098, 0.807843137254902, 0.7803921568627451, 0.8549019607843137, 1.0, 0.050980392156862744, 0.0, 0.00784313725490196, 0.0, 0.0, 0.0, 0.01568627450980392, 0.0, 0.3333333333333333, 0.8941176470588236, 0.8235294117647058, 0.8549019607843137, 0.7843137254901961, 0.8274509803921568, 0.8156862745098039, 0.796078431372549, 0.8431372549019608, 0.8235294117647058, 0.8196078431372549, 0.8196078431372549, 0.8235294117647058, 0.8352941176470589, 0.8274509803921568, 0.8235294117647058, 0.8509803921568627, 0.807843137254902, 0.8352941176470589, 0.9058823529411765, 0.6862745098039216, 0.0, 0.0, 0.0, 0.0, 0.0, 0.0, 0.0, 0.8509803921568627, 0.8784313725490196, 0.8431372549019608, 0.807843137254902, 0.803921568627451, 0.8, 0.8509803921568627, 0.9019607843137255, 0.8705882352941177, 0.8431372549019608, 0.8784313725490196, 0.9137254901960784, 0.8941176470588236, 0.9098039215686274, 0.8941176470588236, 0.8784313725490196, 0.8117647058823529, 0.8313725490196079, 0.8431372549019608, 0.8352941176470589, 0.8980392156862745, 0.12156862745098039, 0.0, 0.01568627450980392, 0.0, 0.00392156862745098, 0.0, 0.08235294117647059, 0.8823529411764706, 0.8313725490196079, 0.8313725490196079, 0.796078431372549, 0.8274509803921568, 0.8823529411764706, 0.7568627450980392, 0.5450980392156862, 0.5333333333333333, 0.7647058823529411, 0.5764705882352941, 0.611764705882353, 0.5450980392156862, 0.5019607843137255, 0.6352941176470588, 0.7725490196078432, 0.8745098039215686, 0.8117647058823529, 0.8627450980392157, 0.8352941176470589, 0.9098039215686274, 0.6941176470588235, 0.0, 0.0, 0.0, 0.0, 0.0, 0.4823529411764706, 0.8862745098039215, 0.8117647058823529, 0.8274509803921568, 0.8196078431372549, 0.803921568627451, 0.8941176470588236, 0.6196078431372549, 0.35294117647058826, 0.403921568627451, 0.7294117647058823, 0.5411764705882353, 0.39215686274509803, 0.4745098039215686, 0.5764705882352941, 0.6196078431372549, 0.7176470588235294, 0.8862745098039215, 0.8156862745098039, 0.8392156862745098, 0.8196078431372549, 0.8470588235294118, 1.0, 0.050980392156862744, 0.0, 0.00392156862745098, 0.0, 0.0, 0.8862745098039215, 0.8588235294117647, 0.792156862745098, 0.8156862745098039, 0.807843137254902, 0.803921568627451, 0.8470588235294118, 0.7215686274509804, 0.611764705882353, 0.5882352941176471, 0.7568627450980392, 0.6666666666666666, 0.6431372549019608, 0.6588235294117647, 0.7372549019607844, 0.7294117647058823, 0.7843137254901961, 0.8588235294117647, 0.8470588235294118, 0.8352941176470589, 0.8352941176470589, 0.8274509803921568, 0.9137254901960784, 0.5803921568627451, 0.0, 0.0, 0.0, 0.17647058823529413, 0.8901960784313725, 0.8, 0.8392156862745098, 0.8274509803921568, 0.8549019607843137, 0.8705882352941177, 0.8666666666666667, 0.9019607843137255, 0.8980392156862745, 0.8666666666666667, 0.8352941176470589, 0.8784313725490196, 0.9137254901960784, 0.8862745098039215, 0.8627450980392157, 0.8588235294117647, 0.8666666666666667, 0.8784313725490196, 0.8745098039215686, 0.8509803921568627, 0.8235294117647058, 0.8549019607843137, 0.8352941176470589, 0.996078431372549, 0.0, 0.0, 0.0, 0.615686274509804, 0.8862745098039215, 0.796078431372549, 0.8117647058823529, 0.8274509803921568, 0.8196078431372549, 0.8431372549019608, 0.803921568627451, 0.7764705882352941, 0.8117647058823529, 0.8156862745098039, 0.788235294117647, 0.788235294117647, 0.7725490196078432, 0.796078431372549, 0.803921568627451, 0.8235294117647058, 0.8117647058823529, 0.8352941176470589, 0.8392156862745098, 0.8392156862745098, 0.8392156862745098, 0.8352941176470589, 0.8156862745098039, 0.9176470588235294, 0.4196078431372549, 0.0, 0.0, 0.9215686274509803, 0.8352941176470589, 0.8, 0.8274509803921568, 0.8235294117647058, 0.8196078431372549, 0.8352941176470589, 0.792156862745098, 0.7725490196078432, 0.8, 0.8431372549019608, 0.8509803921568627, 0.8352941176470589, 0.8313725490196079, 0.8235294117647058, 0.807843137254902, 0.8313725490196079, 0.796078431372549, 0.8274509803921568, 0.8549019607843137, 0.8431372549019608, 0.8392156862745098, 0.8156862745098039, 0.8196078431372549, 0.8705882352941177, 0.9019607843137255, 0.0, 0.20392156862745098, 1.0, 0.8117647058823529, 0.7843137254901961, 0.8156862745098039, 0.8352941176470589, 0.8235294117647058, 0.8235294117647058, 0.8156862745098039, 0.8117647058823529, 0.792156862745098, 0.788235294117647, 0.8196078431372549, 0.8470588235294118, 0.8470588235294118, 0.8470588235294118, 0.8470588235294118, 0.8392156862745098, 0.8313725490196079, 0.803921568627451, 0.8431372549019608, 0.788235294117647, 0.8941176470588236, 0.8156862745098039, 0.8392156862745098, 0.8313725490196079, 0.8549019607843137, 0.09803921568627451, 0.4627450980392157, 0.8509803921568627, 0.788235294117647, 0.807843137254902, 0.8156862745098039, 0.8352941176470589, 0.8156862745098039, 0.803921568627451, 0.807843137254902, 0.8235294117647058, 0.8274509803921568, 0.792156862745098, 0.7803921568627451, 0.8117647058823529, 0.8156862745098039, 0.8196078431372549, 0.8235294117647058, 0.8117647058823529, 0.8235294117647058, 0.8235294117647058, 0.9607843137254902, 0.5450980392156862, 0.4666666666666667, 1.0, 0.792156862745098, 0.796078431372549, 0.9254901960784314, 0.4470588235294118, 0.6705882352941176, 0.9333333333333333, 0.8313725490196079, 0.796078431372549, 0.8627450980392157, 0.8470588235294118, 0.8509803921568627, 0.8196078431372549, 0.8117647058823529, 0.803921568627451, 0.8235294117647058, 0.8274509803921568, 0.807843137254902, 0.8, 0.807843137254902, 0.8196078431372549, 0.8274509803921568, 0.8431372549019608, 0.8235294117647058, 0.807843137254902, 0.8666666666666667, 0.9490196078431372, 0.0, 0.8784313725490196, 0.9176470588235294, 0.9019607843137255, 0.7098039215686275, 0.10196078431372549, 0.15294117647058825, 0.5686274509803921, 0.788235294117647, 1.0, 0.615686274509804, 0.45098039215686275, 0.9803921568627451, 0.7843137254901961, 0.8117647058823529, 0.807843137254902, 0.8117647058823529, 0.8352941176470589, 0.8470588235294118, 0.807843137254902, 0.803921568627451, 0.807843137254902, 0.8117647058823529, 0.807843137254902, 0.8431372549019608, 0.8117647058823529, 0.8666666666666667, 0.9333333333333333, 0.0, 0.0, 0.7372549019607844, 0.3333333333333333, 0.0, 0.0, 0.0, 0.0, 0.0, 0.12156862745098039, 0.0, 0.5058823529411764, 0.9921568627450981, 0.7450980392156863, 0.8117647058823529, 0.8156862745098039, 0.8156862745098039, 0.8156862745098039, 0.8196078431372549, 0.8274509803921568, 0.8274509803921568, 0.8196078431372549, 0.8196078431372549, 0.8196078431372549, 0.8313725490196079, 0.788235294117647, 0.8862745098039215, 0.6470588235294118, 0.0, 0.0, 0.0, 0.0, 0.0, 0.0, 0.00784313725490196, 0.0, 0.0, 0.0, 0.0, 0.34901960784313724, 0.996078431372549, 0.7803921568627451, 0.7803921568627451, 0.7529411764705882, 0.7686274509803922, 0.7764705882352941, 0.7803921568627451, 0.788235294117647, 0.792156862745098, 0.796078431372549, 0.8, 0.796078431372549, 0.796078431372549, 0.7843137254901961, 0.8705882352941177, 0.6078431372549019, 0.0, 0.011764705882352941, 0.011764705882352941, 0.011764705882352941, 0.00784313725490196, 0.0, 0.0, 0.0, 0.00392156862745098, 0.0196078431372549, 0.0, 0.0, 1.0, 0.8549019607843137, 0.8862745098039215, 0.9098039215686274, 0.8941176470588236, 0.8784313725490196, 0.8705882352941177, 0.8627450980392157, 0.8588235294117647, 0.8588235294117647, 0.8509803921568627, 0.8666666666666667, 0.8627450980392157, 0.8313725490196079, 0.9254901960784314, 0.37254901960784315, 0.0, 0.00784313725490196, 0.0, 0.0, 0.0, 0.0, 0.0, 0.0, 0.0, 0.0, 0.0, 0.0, 0.6078431372549019, 0.7607843137254902, 0.6588235294117647, 0.6666666666666666, 0.6705882352941176, 0.6784313725490196, 0.6784313725490196, 0.7019607843137254, 0.6941176470588235, 0.6862745098039216, 0.6745098039215687, 0.6705882352941176, 0.6549019607843137, 0.6313725490196078, 0.7058823529411765, 0.0, 0.0, 0.00392156862745098, 0.0, 0.00392156862745098, 0.0, 0.0, 0.0, 0.0, 0.0, 0.0, 0.0, 0.0, 0.0, 0.0, 0.0, 0.0, 0.0, 0.0, 0.0, 0.0, 0.0, 0.0, 0.0, 0.0, 0.0, 0.0, 0.0, 0.0, 0.0, 0.0, 0.0, 0.0, 0.0, 0.0, 0.0, 0.0, 0.0, 0.0, 0.0, 0.0, 0.0, 0.0, 0.0, 0.0, 0.0, 0.0, 0.0, 0.0, 0.0, 0.0, 0.0, 0.0, 0.0, 0.0, 0.0, 0.0, 0.0, 0.0, 0.0, 0.0, 0.0, 0.0, 0.0, 0.0, 0.0, 0.0, 0.0, 0.0, 0.0, 0.0, 0.0, 0.0, 0.0, 0.0, 0.0, 0.0, 0.0, 0.0, 0.0, 0.0, 0.0, 0.0, 0.0, 0.0, 0.0, 0.0, 0.0, 0.0, 0.0, 0.0], [0.0, 0.0, 0.0, 0.0, 0.0, 0.0, 0.0, 0.0, 0.0, 0.0, 0.0, 0.0, 0.0, 0.0, 0.0, 0.0, 0.0, 0.0, 0.0, 0.0, 0.0, 0.0, 0.0, 0.0, 0.0, 0.0, 0.0, 0.0, 0.0, 0.0, 0.0, 0.0, 0.0, 0.0, 0.0, 0.0, 0.0, 0.0, 0.0, 0.0, 0.0, 0.0, 0.0, 0.0, 0.0, 0.0, 0.0, 0.0, 0.0, 0.0, 0.0, 0.0, 0.0, 0.0, 0.0, 0.0, 0.0, 0.0, 0.0, 0.0, 0.0, 0.0, 0.0, 0.0, 0.0, 0.0, 0.0, 0.0, 0.0, 0.0, 0.0, 0.0, 0.0, 0.0, 0.0, 0.0, 0.0, 0.0, 0.0, 0.0, 0.0, 0.0, 0.0, 0.0, 0.0, 0.0, 0.0, 0.0, 0.0, 0.0, 0.0, 0.0, 0.0, 0.0, 0.0, 0.0, 0.0, 0.0, 0.0, 0.0, 0.0, 0.0, 0.0, 0.0, 0.0, 0.0, 0.0, 0.0, 0.0, 0.0, 0.0, 0.0, 0.0, 0.0, 0.0, 0.0, 0.0, 0.0, 0.0, 0.0, 0.0, 0.0, 0.0, 0.0, 0.0, 0.0, 0.0, 0.0, 0.0, 0.0, 0.0, 0.0, 0.0, 0.0, 0.0, 0.0, 0.0, 0.0, 0.0, 0.0, 0.0, 0.0, 0.0, 0.0, 0.0, 0.0, 0.0, 0.0, 0.0, 0.0, 0.0, 0.0, 0.00392156862745098, 0.00392156862745098, 0.0, 0.0, 0.0, 0.0, 0.3176470588235294, 0.08235294117647059, 0.0, 0.00392156862745098, 0.0, 0.00392156862745098, 0.0, 0.0, 0.0, 0.0, 0.0, 0.0, 0.0, 0.0, 0.0, 0.0, 0.0, 0.0, 0.0, 0.0, 0.0, 0.00392156862745098, 0.0, 0.0, 0.0, 0.0, 0.0, 0.054901960784313725, 0.7843137254901961, 0.19215686274509805, 0.0, 0.0, 0.0, 0.0, 0.0, 0.0, 0.0, 0.0, 0.0, 0.0, 0.0, 0.0, 0.0, 0.0, 0.0, 0.0, 0.00784313725490196, 0.00392156862745098, 0.00392156862745098, 0.00392156862745098, 0.0, 0.00392156862745098, 0.0, 0.0, 0.0, 0.6352941176470588, 0.7215686274509804, 0.6470588235294118, 0.0784313725490196, 0.0, 0.00392156862745098, 0.00392156862745098, 0.011764705882352941, 0.01568627450980392, 0.00392156862745098, 0.0, 0.0, 0.0, 0.0, 0.0, 0.0, 0.0, 0.0, 0.0, 0.0, 0.0, 0.0, 0.00392156862745098, 0.00784313725490196, 0.0, 0.00784313725490196, 0.0, 0.47058823529411764, 0.7176470588235294, 0.6039215686274509, 0.807843137254902, 0.12549019607843137, 0.0, 0.0196078431372549, 0.0196078431372549, 0.0, 0.0, 0.0, 0.0, 0.0, 0.0, 0.0, 0.0, 0.0, 0.0, 0.0, 0.0, 0.0, 0.0, 0.0, 0.00784313725490196, 0.0, 0.011764705882352941, 0.0, 0.2980392156862745, 0.8901960784313725, 0.592156862745098, 0.5450980392156862, 0.6196078431372549, 0.0, 0.0, 0.0, 0.0, 0.0, 0.25882352941176473, 0.09019607843137255, 0.0, 0.0, 0.0, 0.0, 0.0, 0.0, 0.0, 0.0, 0.0, 0.00392156862745098, 0.0, 0.00392156862745098, 0.0, 0.0, 0.0, 0.21568627450980393, 0.8784313725490196, 0.6352941176470588, 0.5607843137254902, 0.4745098039215686, 0.8, 0.9254901960784314, 0.5647058823529412, 0.08235294117647059, 0.2901960784313726, 0.35294117647058826, 0.7450980392156863, 0.03137254901960784, 0.0, 0.0, 0.0, 0.0, 0.0, 0.0, 0.0, 0.0, 0.0, 0.0, 0.00392156862745098, 0.0, 0.0, 0.0, 0.16470588235294117, 0.8941176470588236, 0.6274509803921569, 0.5803921568627451, 0.49019607843137253, 0.6470588235294118, 0.8745098039215686, 0.8156862745098039, 0.8666666666666667, 0.9647058823529412, 0.8274509803921568, 0.6823529411764706, 0.592156862745098, 0.0, 0.0, 0.0, 0.0, 0.0, 0.00392156862745098, 0.011764705882352941, 0.0, 0.00392156862745098, 0.0, 0.011764705882352941, 0.0, 0.03529411764705882, 0.0, 0.09019607843137255, 0.9019607843137255, 0.6588235294117647, 0.5764705882352941, 0.4666666666666667, 0.6392156862745098, 0.8901960784313725, 0.807843137254902, 0.7843137254901961, 0.7450980392156863, 0.807843137254902, 0.7294117647058823, 0.5450980392156862, 0.6705882352941176, 0.1607843137254902, 0.0, 0.0, 0.0, 0.0, 0.0, 0.0, 0.0, 0.0, 0.0, 0.011764705882352941, 0.01568627450980392, 0.0, 0.06274509803921569, 0.8196078431372549, 0.7254901960784313, 0.5450980392156862, 0.4627450980392157, 0.7098039215686275, 0.8901960784313725, 0.8196078431372549, 0.8, 0.8235294117647058, 0.7803921568627451, 0.8823529411764706, 0.615686274509804, 0.4980392156862745, 0.7450980392156863, 0.43529411764705883, 0.0, 0.00392156862745098, 0.011764705882352941, 0.00784313725490196, 0.00392156862745098, 0.011764705882352941, 0.00784313725490196, 0.011764705882352941, 0.0, 0.0, 0.0, 0.2627450980392157, 0.8392156862745098, 0.7333333333333333, 0.5450980392156862, 0.43529411764705883, 0.7490196078431373, 0.8980392156862745, 0.796078431372549, 0.8156862745098039, 0.8156862745098039, 0.7686274509803922, 0.8745098039215686, 0.7372549019607844, 0.39215686274509803, 0.5019607843137255, 0.6078431372549019, 0.4392156862745098, 0.0, 0.0, 0.0, 0.0, 0.0, 0.0, 0.0, 0.0, 0.0, 0.18823529411764706, 0.6313725490196078, 0.8549019607843137, 0.6705882352941176, 0.5764705882352941, 0.4549019607843137, 0.7254901960784313, 0.9215686274509803, 0.788235294117647, 0.8196078431372549, 0.796078431372549, 0.8, 0.8627450980392157, 0.8156862745098039, 0.49411764705882355, 0.5215686274509804, 0.6352941176470588, 0.6431372549019608, 0.7333333333333333, 0.0, 0.0, 0.047058823529411764, 0.06274509803921569, 0.03529411764705882, 0.01568627450980392, 0.07450980392156863, 0.28627450980392155, 0.6666666666666666, 0.8274509803921568, 0.7372549019607844, 0.5686274509803921, 0.5843137254901961, 0.5803921568627451, 0.5333333333333333, 0.8705882352941177, 0.8549019607843137, 0.8117647058823529, 0.8156862745098039, 0.8431372549019608, 0.8784313725490196, 0.7568627450980392, 0.5490196078431373, 0.5725490196078431, 0.6352941176470588, 0.611764705882353, 0.4627450980392157, 0.796078431372549, 0.1450980392156863, 0.1843137254901961, 1.0, 0.7372549019607844, 0.7333333333333333, 0.7137254901960784, 0.796078431372549, 0.807843137254902, 0.7137254901960784, 0.5764705882352941, 0.5490196078431373, 0.5803921568627451, 0.5803921568627451, 0.5803921568627451, 0.5254901960784314, 0.7058823529411765, 0.8549019607843137, 0.8666666666666667, 0.8823529411764706, 0.8, 0.611764705882353, 0.5254901960784314, 0.5450980392156862, 0.5647058823529412, 0.5490196078431373, 0.4823529411764706, 0.3803921568627451, 0.807843137254902, 0.11764705882352941, 0.34509803921568627, 0.796078431372549, 0.6431372549019608, 0.6549019607843137, 0.6666666666666666, 0.6313725490196078, 0.5764705882352941, 0.5764705882352941, 0.611764705882353, 0.6235294117647059, 0.6, 0.596078431372549, 0.6078431372549019, 0.5882352941176471, 0.5254901960784314, 0.5333333333333333, 0.6, 0.5686274509803921, 0.5333333333333333, 0.592156862745098, 0.6431372549019608, 0.6588235294117647, 0.6666666666666666, 0.6509803921568628, 0.6, 0.5098039215686274, 0.7843137254901961, 0.0392156862745098, 0.5137254901960784, 0.7647058823529411, 0.5882352941176471, 0.5215686274509804, 0.5176470588235295, 0.5568627450980392, 0.6274509803921569, 0.6509803921568628, 0.6352941176470588, 0.6, 0.596078431372549, 0.6, 0.592156862745098, 0.6039215686274509, 0.6392156862745098, 0.5764705882352941, 0.596078431372549, 0.6392156862745098, 0.803921568627451, 0.8156862745098039, 0.6823529411764706, 0.6862745098039216, 0.6980392156862745, 0.7098039215686275, 0.6588235294117647, 0.5882352941176471, 0.7686274509803922, 0.00392156862745098, 0.6078431372549019, 0.8941176470588236, 0.7725490196078432, 0.6745098039215687, 0.5411764705882353, 0.4823529411764706, 0.4745098039215686, 0.47843137254901963, 0.49411764705882355, 0.5058823529411764, 0.5294117647058824, 0.5450980392156862, 0.5647058823529412, 0.6196078431372549, 0.6941176470588235, 0.7529411764705882, 0.9372549019607843, 0.9568627450980393, 0.6980392156862745, 0.6901960784313725, 0.7176470588235294, 0.7019607843137254, 0.7254901960784313, 0.6941176470588235, 0.5764705882352941, 0.5803921568627451, 0.7529411764705882, 0.0, 0.0, 0.3137254901960784, 0.7686274509803922, 0.7803921568627451, 0.8313725490196079, 0.8196078431372549, 0.7450980392156863, 0.6901960784313725, 0.6666666666666666, 0.6980392156862745, 0.7176470588235294, 0.7529411764705882, 0.8, 0.8, 0.792156862745098, 0.5647058823529412, 0.23137254901960785, 0.011764705882352941, 0.0, 0.2627450980392157, 0.8509803921568627, 0.7215686274509804, 0.7372549019607844, 0.6980392156862745, 0.6509803921568628, 0.6274509803921569, 0.7372549019607844, 0.050980392156862744, 0.0, 0.0, 0.0, 0.011764705882352941, 0.2, 0.4117647058823529, 0.7019607843137254, 0.8509803921568627, 0.9215686274509803, 0.8901960784313725, 0.8156862745098039, 0.788235294117647, 0.5215686274509804, 0.22745098039215686, 0.0, 0.0, 0.0, 0.0, 0.0, 0.06274509803921569, 0.7333333333333333, 0.7607843137254902, 0.7215686274509804, 0.7254901960784313, 0.6862745098039216, 0.7098039215686275, 0.5137254901960784, 0.0, 0.0, 0.011764705882352941, 0.0, 0.0, 0.0, 0.0, 0.0, 0.0, 0.0, 0.0, 0.0, 0.0, 0.0, 0.0, 0.0, 0.0196078431372549, 0.0196078431372549, 0.0196078431372549, 0.0, 0.0, 0.0, 0.0, 0.0, 0.0, 0.0, 0.0, 0.0, 0.0, 0.0, 0.0, 0.0, 0.0, 0.0, 0.0, 0.0, 0.0, 0.0, 0.0, 0.0, 0.0, 0.0, 0.0, 0.0, 0.0, 0.0, 0.0, 0.0, 0.0, 0.0, 0.0, 0.0, 0.0, 0.0, 0.0, 0.0, 0.0, 0.0, 0.0, 0.0, 0.0, 0.0, 0.0, 0.0, 0.0, 0.0, 0.0, 0.0, 0.0, 0.0, 0.0, 0.0, 0.0, 0.0, 0.0, 0.0, 0.0, 0.0, 0.0, 0.0, 0.0, 0.0, 0.0, 0.0, 0.0, 0.0, 0.0, 0.0, 0.0, 0.0, 0.0, 0.0, 0.0, 0.0, 0.0, 0.0, 0.0, 0.0, 0.0, 0.0, 0.0, 0.0, 0.0, 0.0, 0.0, 0.0, 0.0, 0.0, 0.0, 0.0, 0.0, 0.0, 0.0, 0.0, 0.0, 0.0, 0.0, 0.0, 0.0, 0.0, 0.0, 0.0, 0.0, 0.0, 0.0, 0.0, 0.0, 0.0, 0.0, 0.0, 0.0, 0.0, 0.0, 0.0, 0.0, 0.0, 0.0, 0.0, 0.0, 0.0, 0.0], [0.0, 0.0, 0.0, 0.0, 0.0, 0.0, 0.0, 0.0196078431372549, 0.0, 0.0, 0.0, 0.4117647058823529, 0.3607843137254902, 0.396078431372549, 0.4196078431372549, 0.39215686274509803, 0.5176470588235295, 0.0, 0.0, 0.00784313725490196, 0.01568627450980392, 0.0, 0.00392156862745098, 0.0, 0.0, 0.0, 0.0, 0.0, 0.0, 0.0, 0.0, 0.0, 0.0, 0.0, 0.0, 0.0, 0.0, 0.0, 0.5882352941176471, 0.8901960784313725, 0.8274509803921568, 0.6705882352941176, 0.7490196078431373, 0.9254901960784314, 0.8941176470588236, 0.6745098039215687, 0.0, 0.0, 0.0, 0.0, 0.00392156862745098, 0.0, 0.0, 0.0, 0.0, 0.0, 0.0, 0.0, 0.0, 0.0, 0.0, 0.0, 0.0, 0.18823529411764706, 0.6, 0.8196078431372549, 0.8235294117647058, 0.7333333333333333, 0.7803921568627451, 0.5568627450980392, 0.615686274509804, 0.8196078431372549, 0.7019607843137254, 0.7803921568627451, 0.9137254901960784, 0.5411764705882353, 0.17254901960784313, 0.0, 0.0, 0.0, 0.0, 0.0, 0.0, 0.0, 0.0, 0.0, 0.0, 0.0, 0.0, 0.0, 0.47058823529411764, 0.8549019607843137, 0.8431372549019608, 0.8117647058823529, 0.7764705882352941, 0.7764705882352941, 0.8745098039215686, 0.8588235294117647, 0.8392156862745098, 0.8823529411764706, 0.7450980392156863, 0.6941176470588235, 0.7647058823529411, 0.8196078431372549, 0.8, 0.5450980392156862, 0.0, 0.00392156862745098, 0.0, 0.0, 0.0, 0.0, 0.0, 0.0, 0.0, 0.0, 0.0, 0.0, 0.8156862745098039, 0.7843137254901961, 0.7725490196078432, 0.792156862745098, 0.7568627450980392, 0.796078431372549, 0.8117647058823529, 0.8941176470588236, 0.9607843137254902, 0.7686274509803922, 0.7725490196078432, 0.792156862745098, 0.7568627450980392, 0.7450980392156863, 0.6549019607843137, 0.796078431372549, 0.10588235294117647, 0.0, 0.0, 0.0, 0.0, 0.0, 0.0, 0.0, 0.0, 0.0, 0.0, 0.34901960784313724, 0.8509803921568627, 0.7843137254901961, 0.8274509803921568, 0.6862745098039216, 0.7411764705882353, 0.803921568627451, 0.7803921568627451, 0.8549019607843137, 0.8470588235294118, 0.7098039215686275, 0.7019607843137254, 0.7254901960784313, 0.7529411764705882, 0.7764705882352941, 0.7215686274509804, 0.7764705882352941, 0.4745098039215686, 0.0, 0.0, 0.0, 0.0, 0.0, 0.0, 0.0, 0.0, 0.0, 0.0, 0.5490196078431373, 0.8627450980392157, 0.8, 0.8745098039215686, 0.7333333333333333, 0.7137254901960784, 0.7843137254901961, 0.8117647058823529, 0.8509803921568627, 0.8352941176470589, 0.8235294117647058, 0.8117647058823529, 0.7058823529411765, 0.6313725490196078, 0.7529411764705882, 0.7215686274509804, 0.7803921568627451, 0.6352941176470588, 0.0, 0.0, 0.0, 0.0, 0.0, 0.0, 0.0, 0.0, 0.0, 0.0, 0.6509803921568628, 0.8549019607843137, 0.796078431372549, 0.7647058823529411, 0.7254901960784313, 0.7686274509803922, 0.7411764705882353, 0.6549019607843137, 0.7098039215686275, 0.807843137254902, 0.6941176470588235, 0.6901960784313725, 0.7098039215686275, 0.6470588235294118, 0.7333333333333333, 0.7019607843137254, 0.7411764705882353, 0.7176470588235294, 0.0, 0.0, 0.0, 0.0, 0.0, 0.0, 0.0, 0.0, 0.0, 0.0, 0.7686274509803922, 0.8431372549019608, 0.8274509803921568, 0.807843137254902, 0.788235294117647, 0.7686274509803922, 0.7058823529411765, 0.7372549019607844, 0.8235294117647058, 0.807843137254902, 0.7450980392156863, 0.6784313725490196, 0.7058823529411765, 0.7333333333333333, 0.7529411764705882, 0.7215686274509804, 0.7529411764705882, 0.7803921568627451, 0.0, 0.0, 0.0, 0.0, 0.0, 0.0, 0.0, 0.0, 0.0, 0.0, 0.8313725490196079, 0.8509803921568627, 0.8784313725490196, 0.8274509803921568, 0.8470588235294118, 0.788235294117647, 0.7411764705882353, 0.7215686274509804, 0.792156862745098, 0.8235294117647058, 0.7607843137254902, 0.7137254901960784, 0.6784313725490196, 0.6784313725490196, 0.6901960784313725, 0.7529411764705882, 0.7647058823529411, 0.8156862745098039, 0.0, 0.0, 0.0, 0.0, 0.0, 0.0, 0.0, 0.0, 0.0, 0.0, 0.8705882352941177, 0.8431372549019608, 0.8941176470588236, 0.796078431372549, 0.8313725490196079, 0.7803921568627451, 0.7764705882352941, 0.7490196078431373, 0.7294117647058823, 0.8941176470588236, 0.7647058823529411, 0.7490196078431373, 0.6313725490196078, 0.6980392156862745, 0.6941176470588235, 0.7764705882352941, 0.7607843137254902, 0.8235294117647058, 0.11372549019607843, 0.0, 0.0, 0.0, 0.0, 0.0, 0.0, 0.0, 0.0, 0.0, 0.9568627450980393, 0.8431372549019608, 0.9215686274509803, 0.807843137254902, 0.8392156862745098, 0.792156862745098, 0.6705882352941176, 0.788235294117647, 0.6980392156862745, 0.796078431372549, 0.7450980392156863, 0.7058823529411765, 0.7333333333333333, 0.7686274509803922, 0.7176470588235294, 0.807843137254902, 0.7647058823529411, 0.807843137254902, 0.17254901960784313, 0.0, 0.0, 0.0, 0.0, 0.0, 0.0, 0.0, 0.0, 0.0, 0.9137254901960784, 0.8666666666666667, 0.9294117647058824, 0.7137254901960784, 0.807843137254902, 0.8117647058823529, 0.7647058823529411, 0.7843137254901961, 0.7529411764705882, 0.8784313725490196, 0.7490196078431373, 0.7137254901960784, 0.6941176470588235, 0.7058823529411765, 0.7294117647058823, 0.6980392156862745, 0.7686274509803922, 0.8117647058823529, 0.23529411764705882, 0.0, 0.0, 0.0, 0.0, 0.0, 0.0, 0.0, 0.0, 0.06274509803921569, 0.9764705882352941, 0.8784313725490196, 0.8980392156862745, 0.7529411764705882, 0.8431372549019608, 0.8117647058823529, 0.7764705882352941, 0.7764705882352941, 0.7529411764705882, 0.8862745098039215, 0.7568627450980392, 0.7529411764705882, 0.7058823529411765, 0.6901960784313725, 0.7254901960784313, 0.7686274509803922, 0.7843137254901961, 0.8509803921568627, 0.3411764705882353, 0.0, 0.0, 0.0, 0.0, 0.0, 0.0, 0.0, 0.0, 0.20784313725490197, 0.8705882352941177, 0.8745098039215686, 0.9215686274509803, 0.803921568627451, 0.8627450980392157, 0.7843137254901961, 0.592156862745098, 0.807843137254902, 0.7764705882352941, 0.8392156862745098, 0.7803921568627451, 0.6705882352941176, 0.6313725490196078, 0.7725490196078432, 0.7294117647058823, 0.8549019607843137, 0.7764705882352941, 0.8470588235294118, 0.34509803921568627, 0.0, 0.0, 0.0, 0.0, 0.0, 0.0, 0.0, 0.0, 0.29411764705882354, 0.8745098039215686, 0.8745098039215686, 0.9294117647058824, 0.7803921568627451, 0.8588235294117647, 0.796078431372549, 0.7568627450980392, 0.8, 0.788235294117647, 0.8627450980392157, 0.788235294117647, 0.7568627450980392, 0.6901960784313725, 0.7411764705882353, 0.6549019607843137, 0.8549019607843137, 0.792156862745098, 0.7764705882352941, 0.42745098039215684, 0.0, 0.0, 0.0, 0.0, 0.0, 0.0, 0.0, 0.0, 0.30980392156862746, 0.9803921568627451, 0.8862745098039215, 0.9529411764705882, 0.7686274509803922, 0.8705882352941177, 0.788235294117647, 0.807843137254902, 0.803921568627451, 0.8117647058823529, 0.8705882352941177, 0.7254901960784313, 0.7607843137254902, 0.7294117647058823, 0.7333333333333333, 0.5647058823529412, 0.8117647058823529, 0.8156862745098039, 0.8862745098039215, 0.43529411764705883, 0.0, 0.0, 0.0, 0.0, 0.0, 0.0, 0.0, 0.0, 0.3411764705882353, 0.9764705882352941, 0.8705882352941177, 0.9411764705882353, 0.8862745098039215, 0.7568627450980392, 0.7333333333333333, 0.803921568627451, 0.807843137254902, 0.7764705882352941, 0.8313725490196079, 0.7450980392156863, 0.7411764705882353, 0.7254901960784313, 0.7254901960784313, 0.7490196078431373, 0.8274509803921568, 0.8313725490196079, 0.8235294117647058, 0.44313725490196076, 0.0, 0.0, 0.0, 0.0, 0.0, 0.0, 0.0, 0.0, 0.37254901960784315, 0.9764705882352941, 0.8901960784313725, 0.9254901960784314, 0.8588235294117647, 0.8352941176470589, 0.7294117647058823, 0.796078431372549, 0.8588235294117647, 0.7764705882352941, 0.807843137254902, 0.8549019607843137, 0.7607843137254902, 0.6941176470588235, 0.7098039215686275, 0.7647058823529411, 0.5803921568627451, 0.8980392156862745, 0.807843137254902, 0.47843137254901963, 0.0, 0.0, 0.0, 0.0, 0.0, 0.0, 0.0, 0.0, 0.41568627450980394, 0.9725490196078431, 0.8941176470588236, 0.8784313725490196, 0.807843137254902, 0.792156862745098, 0.7843137254901961, 0.807843137254902, 0.7490196078431373, 0.7450980392156863, 0.7607843137254902, 0.796078431372549, 0.7686274509803922, 0.7058823529411765, 0.7058823529411765, 0.7254901960784313, 0.5803921568627451, 0.8941176470588236, 0.8392156862745098, 0.4588235294117647, 0.0, 0.0, 0.0, 0.0, 0.0, 0.0, 0.0, 0.0, 0.43137254901960786, 0.9490196078431372, 0.8823529411764706, 0.9372549019607843, 0.8549019607843137, 0.8, 0.788235294117647, 0.792156862745098, 0.8274509803921568, 0.7568627450980392, 0.7725490196078432, 0.8509803921568627, 0.796078431372549, 0.7176470588235294, 0.7215686274509804, 0.6862745098039216, 0.8313725490196079, 0.8588235294117647, 0.807843137254902, 0.47843137254901963, 0.0, 0.0, 0.0, 0.0, 0.0, 0.0, 0.0, 0.0, 0.47843137254901963, 0.9764705882352941, 0.9176470588235294, 0.9450980392156862, 0.8470588235294118, 0.8431372549019608, 0.7686274509803922, 0.7843137254901961, 0.8705882352941177, 0.8156862745098039, 0.7647058823529411, 0.8823529411764706, 0.8313725490196079, 0.7098039215686275, 0.7294117647058823, 0.7176470588235294, 0.8901960784313725, 0.8392156862745098, 0.8274509803921568, 0.4745098039215686, 0.0, 0.0, 0.0, 0.0, 0.0, 0.0, 0.0, 0.0, 0.5803921568627451, 0.9019607843137255, 0.9294117647058824, 0.8941176470588236, 0.8392156862745098, 0.8352941176470589, 0.788235294117647, 0.8117647058823529, 0.8392156862745098, 0.788235294117647, 0.8, 0.9215686274509803, 0.7490196078431373, 0.6313725490196078, 0.7254901960784313, 0.7058823529411765, 0.8470588235294118, 0.788235294117647, 0.8313725490196079, 0.4666666666666667, 0.0, 0.0, 0.0, 0.0, 0.0, 0.0, 0.0, 0.0, 0.592156862745098, 0.9019607843137255, 0.9215686274509803, 0.8980392156862745, 0.8549019607843137, 0.8196078431372549, 0.7764705882352941, 0.7568627450980392, 0.8862745098039215, 0.7137254901960784, 0.7411764705882353, 0.9411764705882353, 0.7843137254901961, 0.7294117647058823, 0.7372549019607844, 0.7372549019607844, 0.8549019607843137, 0.8470588235294118, 0.8196078431372549, 0.43137254901960786, 0.0, 0.0, 0.0, 0.0, 0.0, 0.0, 0.0, 0.0, 0.3764705882352941, 0.9294117647058824, 0.9137254901960784, 0.9294117647058824, 0.8117647058823529, 0.7843137254901961, 0.796078431372549, 0.7490196078431373, 0.8352941176470589, 0.6666666666666666, 0.7294117647058823, 0.9372549019607843, 0.8196078431372549, 0.7294117647058823, 0.6784313725490196, 0.7294117647058823, 0.611764705882353, 0.7803921568627451, 0.8509803921568627, 0.32941176470588235, 0.0, 0.0, 0.0, 0.0, 0.0, 0.0, 0.0, 0.0, 0.34901960784313724, 0.9294117647058824, 0.8117647058823529, 0.4745098039215686, 1.0, 0.7568627450980392, 0.7176470588235294, 0.7568627450980392, 0.8196078431372549, 0.8784313725490196, 0.8156862745098039, 0.8784313725490196, 0.796078431372549, 0.6274509803921569, 0.7215686274509804, 0.8745098039215686, 0.0, 0.7294117647058823, 0.8470588235294118, 0.4, 0.0, 0.0, 0.0, 0.0, 0.0, 0.0, 0.0, 0.0, 0.4235294117647059, 0.9490196078431372, 0.9921568627450981, 0.0, 0.4392156862745098, 1.0, 0.8509803921568627, 0.8274509803921568, 0.8901960784313725, 0.9607843137254902, 0.7647058823529411, 0.7607843137254902, 0.8274509803921568, 0.8627450980392157, 0.8392156862745098, 0.2901960784313726, 0.0, 1.0, 0.8705882352941177, 0.5019607843137255, 0.0, 0.0, 0.0, 0.0, 0.0, 0.0, 0.0, 0.0, 0.0, 0.17254901960784313, 0.047058823529411764, 0.0, 0.0, 0.1568627450980392, 0.5254901960784314, 0.6352941176470588, 0.7490196078431373, 0.8392156862745098, 0.6392156862745098, 0.5725490196078431, 0.6470588235294118, 0.30980392156862746, 0.0, 0.0, 0.0, 0.11764705882352941, 0.16862745098039217, 0.0, 0.0, 0.0, 0.0, 0.0], [0.0, 0.0, 0.0, 0.00392156862745098, 0.00784313725490196, 0.0, 0.0, 0.0, 0.0, 0.0, 0.4470588235294118, 0.7176470588235294, 0.4392156862745098, 0.21568627450980393, 0.09019607843137255, 0.2823529411764706, 0.4, 0.6470588235294118, 0.6274509803921569, 0.10980392156862745, 0.0, 0.0, 0.0, 0.00392156862745098, 0.0, 0.0, 0.0, 0.0, 0.0, 0.0, 0.0, 0.0, 0.00392156862745098, 0.0, 0.0, 0.09411764705882353, 0.7372549019607844, 0.6392156862745098, 0.36470588235294116, 0.5333333333333333, 0.6, 0.6588235294117647, 0.9882352941176471, 0.6823529411764706, 0.5333333333333333, 0.6509803921568628, 0.5098039215686274, 0.4823529411764706, 0.5137254901960784, 0.25882352941176473, 0.0, 0.0, 0.00392156862745098, 0.0, 0.0, 0.0, 0.0, 0.0, 0.0, 0.00784313725490196, 0.0, 0.0392156862745098, 0.615686274509804, 0.8470588235294118, 0.8862745098039215, 0.8156862745098039, 0.5568627450980392, 0.25882352941176473, 0.45098039215686275, 0.5843137254901961, 0.9019607843137255, 0.7450980392156863, 0.7686274509803922, 0.7764705882352941, 0.6745098039215687, 0.8705882352941177, 0.4196078431372549, 0.6470588235294118, 0.8274509803921568, 0.0, 0.0, 0.0, 0.0, 0.0, 0.0, 0.0, 0.0, 0.0, 0.0, 0.4627450980392157, 0.8392156862745098, 0.6823529411764706, 0.6588235294117647, 0.42745098039215684, 0.7843137254901961, 0.48627450980392156, 0.5882352941176471, 0.5607843137254902, 0.22745098039215686, 0.24705882352941178, 0.34901960784313724, 0.5372549019607843, 0.3803921568627451, 0.6588235294117647, 0.5411764705882353, 0.5568627450980392, 0.7647058823529411, 0.611764705882353, 0.0, 0.0, 0.0, 0.0, 0.0, 0.0, 0.0, 0.0, 0.09803921568627451, 0.5490196078431373, 0.27450980392156865, 0.3137254901960784, 0.16862745098039217, 0.2784313725490196, 0.3764705882352941, 0.36470588235294116, 0.592156862745098, 0.4745098039215686, 0.7725490196078432, 0.5607843137254902, 0.4196078431372549, 0.3215686274509804, 0.396078431372549, 0.43529411764705883, 0.3137254901960784, 0.5372549019607843, 0.7568627450980392, 0.8156862745098039, 0.023529411764705882, 0.0, 0.0, 0.0, 0.0, 0.0, 0.0, 0.0, 0.2901960784313726, 0.7607843137254902, 0.4196078431372549, 0.5725490196078431, 0.6980392156862745, 0.7254901960784313, 0.7137254901960784, 0.30196078431372547, 0.7254901960784313, 0.8549019607843137, 0.8235294117647058, 0.6862745098039216, 0.6823529411764706, 0.9215686274509803, 0.8509803921568627, 0.8509803921568627, 0.5058823529411764, 0.7058823529411765, 0.8235294117647058, 0.8156862745098039, 0.34901960784313724, 0.0, 0.0, 0.0, 0.0, 0.0, 0.0, 0.0, 0.7019607843137254, 0.8352941176470589, 0.796078431372549, 0.6941176470588235, 0.8941176470588236, 0.7529411764705882, 0.7568627450980392, 0.6352941176470588, 0.5607843137254902, 0.6745098039215687, 0.7686274509803922, 0.803921568627451, 0.7098039215686275, 0.7058823529411765, 0.5490196078431373, 0.5254901960784314, 0.6901960784313725, 0.7607843137254902, 0.6705882352941176, 0.6666666666666666, 0.2549019607843137, 0.0, 0.0, 0.0, 0.0, 0.0, 0.0, 0.0, 0.7215686274509804, 0.7607843137254902, 0.8980392156862745, 0.8196078431372549, 0.6901960784313725, 0.7764705882352941, 0.5058823529411764, 0.8901960784313725, 0.8823529411764706, 0.5490196078431373, 0.7686274509803922, 0.5098039215686274, 0.7019607843137254, 0.5686274509803921, 0.42745098039215684, 0.30980392156862746, 0.7137254901960784, 0.8745098039215686, 0.6431372549019608, 0.7647058823529411, 0.9137254901960784, 0.0, 0.0, 0.0, 0.0, 0.0, 0.0, 0.14901960784313725, 0.7058823529411765, 0.6941176470588235, 0.8352941176470589, 0.792156862745098, 0.6235294117647059, 0.5058823529411764, 0.3843137254901961, 0.7019607843137254, 0.5843137254901961, 0.35294117647058826, 0.7333333333333333, 0.8274509803921568, 0.23921568627450981, 0.5254901960784314, 0.3568627450980392, 0.2235294117647059, 0.4627450980392157, 0.8313725490196079, 0.8627450980392157, 0.8549019607843137, 0.8117647058823529, 0.0, 0.0, 0.0, 0.0, 0.0, 0.0, 0.4470588235294118, 0.6039215686274509, 0.5568627450980392, 0.7137254901960784, 0.8588235294117647, 0.5098039215686274, 0.34509803921568627, 0.3176470588235294, 0.20392156862745098, 0.21176470588235294, 0.41568627450980394, 0.36470588235294116, 0.43137254901960786, 0.6235294117647059, 0.8705882352941177, 0.8901960784313725, 0.3254901960784314, 0.4588235294117647, 0.9921568627450981, 0.8549019607843137, 0.8235294117647058, 0.807843137254902, 0.18823529411764706, 0.0, 0.0, 0.0, 0.0, 0.0, 0.07058823529411765, 0.4980392156862745, 0.8156862745098039, 0.8941176470588236, 0.7254901960784313, 0.6745098039215687, 0.9411764705882353, 0.3568627450980392, 0.49411764705882355, 0.8156862745098039, 0.6470588235294118, 0.6039215686274509, 0.8352941176470589, 0.8392156862745098, 0.8980392156862745, 0.8431372549019608, 0.6862745098039216, 0.8705882352941177, 0.8, 0.6, 0.5098039215686274, 0.49019607843137253, 0.15294117647058825, 0.0, 0.0, 0.0, 0.0, 0.0, 0.0, 0.0, 0.0, 0.10980392156862745, 0.0, 0.8313725490196079, 0.8941176470588236, 0.6666666666666666, 0.8666666666666667, 0.803921568627451, 0.8823529411764706, 0.8941176470588236, 0.8235294117647058, 0.6980392156862745, 0.8392156862745098, 0.34901960784313724, 0.4588235294117647, 0.8352941176470589, 0.0, 0.0, 0.0, 0.0, 0.0, 0.0, 0.0, 0.0, 0.0, 0.0, 0.0, 0.0, 0.0, 0.0, 0.0, 0.7686274509803922, 0.5529411764705883, 0.2196078431372549, 0.6901960784313725, 0.8235294117647058, 0.6431372549019608, 0.6352941176470588, 0.3568627450980392, 0.5294117647058824, 0.7686274509803922, 0.6196078431372549, 0.27058823529411763, 0.7098039215686275, 0.0, 0.0, 0.011764705882352941, 0.00784313725490196, 0.011764705882352941, 0.0, 0.0, 0.0, 0.0, 0.0, 0.0, 0.0, 0.00392156862745098, 0.0, 0.0, 0.5882352941176471, 0.7450980392156863, 0.34509803921568627, 0.19607843137254902, 0.5686274509803921, 0.7607843137254902, 0.6235294117647059, 0.47058823529411764, 0.5333333333333333, 0.8117647058823529, 0.9019607843137255, 0.5647058823529412, 0.6705882352941176, 0.01568627450980392, 0.0, 0.00392156862745098, 0.0, 0.0, 0.0, 0.0, 0.0, 0.0, 0.0, 0.0, 0.0, 0.0, 0.0, 0.0, 0.7333333333333333, 0.8627450980392157, 0.7137254901960784, 0.2823529411764706, 0.5450980392156862, 0.7803921568627451, 0.7529411764705882, 0.9098039215686274, 1.0, 0.9568627450980393, 0.7764705882352941, 0.6666666666666666, 0.7411764705882353, 0.00784313725490196, 0.0, 0.011764705882352941, 0.0, 0.0, 0.0, 0.0, 0.0, 0.0, 0.0, 0.0, 0.0, 0.0, 0.0, 0.0, 0.7294117647058823, 0.6862745098039216, 0.7098039215686275, 0.36470588235294116, 0.6431372549019608, 0.9019607843137255, 0.5254901960784314, 0.6, 0.5568627450980392, 0.5372549019607843, 0.30980392156862746, 0.5607843137254902, 0.7176470588235294, 0.0, 0.0, 0.00784313725490196, 0.0, 0.0, 0.0, 0.0, 0.0, 0.0, 0.0, 0.0, 0.0, 0.0, 0.0, 0.0, 0.36470588235294116, 0.2823529411764706, 0.5647058823529412, 0.5411764705882353, 0.6431372549019608, 0.44313725490196076, 0.48627450980392156, 0.3843137254901961, 0.3137254901960784, 0.2235294117647059, 0.3803921568627451, 0.5411764705882353, 0.48627450980392156, 0.01568627450980392, 0.0, 0.011764705882352941, 0.0, 0.0, 0.0, 0.0, 0.0, 0.0, 0.0, 0.0, 0.0, 0.0, 0.0, 0.0, 0.5843137254901961, 0.6705882352941176, 0.3843137254901961, 0.27450980392156865, 0.7058823529411765, 0.596078431372549, 0.8901960784313725, 0.6784313725490196, 0.5607843137254902, 0.7058823529411765, 0.7176470588235294, 0.4980392156862745, 0.807843137254902, 0.14901960784313725, 0.0, 0.0196078431372549, 0.0, 0.0, 0.0, 0.0, 0.0, 0.0, 0.0, 0.0, 0.00392156862745098, 0.0, 0.0, 0.0, 0.7647058823529411, 0.8235294117647058, 0.8862745098039215, 0.44313725490196076, 0.7333333333333333, 0.8784313725490196, 0.8235294117647058, 0.7490196078431373, 0.7098039215686275, 0.8784313725490196, 0.8313725490196079, 0.7764705882352941, 0.6745098039215687, 0.1411764705882353, 0.0, 0.023529411764705882, 0.0, 0.0, 0.0, 0.0, 0.0, 0.0, 0.0, 0.0, 0.00392156862745098, 0.0, 0.0, 0.0, 0.6, 0.7725490196078432, 0.6705882352941176, 0.6862745098039216, 0.6313725490196078, 0.6705882352941176, 0.7803921568627451, 0.8784313725490196, 0.7333333333333333, 0.807843137254902, 0.7529411764705882, 0.6901960784313725, 0.7019607843137254, 0.18823529411764706, 0.0, 0.023529411764705882, 0.00392156862745098, 0.0, 0.0, 0.0, 0.0, 0.0, 0.0, 0.0, 0.0, 0.0, 0.0, 0.0, 0.7058823529411765, 0.7647058823529411, 0.5333333333333333, 0.9019607843137255, 0.9411764705882353, 0.5803921568627451, 0.8, 0.5490196078431373, 0.6784313725490196, 0.7803921568627451, 0.7568627450980392, 0.611764705882353, 0.8352941176470589, 0.1450980392156863, 0.0, 0.0196078431372549, 0.0, 0.0, 0.0, 0.0, 0.0, 0.0, 0.0, 0.0, 0.0, 0.00392156862745098, 0.0, 0.0, 0.5882352941176471, 0.396078431372549, 0.2823529411764706, 0.6549019607843137, 0.6196078431372549, 0.37254901960784315, 0.6941176470588235, 0.9176470588235294, 0.44313725490196076, 0.5568627450980392, 0.4392156862745098, 0.23137254901960785, 0.596078431372549, 0.08627450980392157, 0.0, 0.011764705882352941, 0.0, 0.0, 0.0, 0.0, 0.0, 0.0, 0.0, 0.0, 0.0, 0.0, 0.0, 0.0, 0.7725490196078432, 0.6980392156862745, 0.3215686274509804, 0.1843137254901961, 0.25098039215686274, 0.41568627450980394, 0.4392156862745098, 0.4745098039215686, 0.43137254901960786, 0.7411764705882353, 0.8823529411764706, 0.4745098039215686, 0.3843137254901961, 0.22745098039215686, 0.0, 0.01568627450980392, 0.0, 0.0, 0.0, 0.0, 0.0, 0.0, 0.0, 0.0, 0.0, 0.00784313725490196, 0.0, 0.0, 0.792156862745098, 0.8588235294117647, 0.6313725490196078, 0.5294117647058824, 0.803921568627451, 0.7843137254901961, 0.611764705882353, 0.7647058823529411, 0.9058823529411765, 0.9176470588235294, 0.8549019607843137, 0.7137254901960784, 0.8745098039215686, 0.38823529411764707, 0.0, 0.023529411764705882, 0.0, 0.0, 0.0, 0.0, 0.0, 0.0, 0.0, 0.0, 0.0, 0.01568627450980392, 0.0, 0.0, 0.7372549019607844, 0.596078431372549, 0.4627450980392157, 0.8705882352941177, 0.8392156862745098, 0.796078431372549, 0.9137254901960784, 0.8862745098039215, 0.7568627450980392, 0.7843137254901961, 0.6784313725490196, 0.20784313725490197, 0.6509803921568628, 0.3803921568627451, 0.0, 0.023529411764705882, 0.0, 0.0, 0.0, 0.0, 0.0, 0.0, 0.0, 0.0, 0.0, 0.011764705882352941, 0.0, 0.00784313725490196, 0.7137254901960784, 0.596078431372549, 0.2, 0.34901960784313724, 0.6823529411764706, 0.7176470588235294, 0.6588235294117647, 0.4392156862745098, 0.42745098039215684, 0.7098039215686275, 0.6666666666666666, 0.5333333333333333, 0.4235294117647059, 0.23529411764705882, 0.0, 0.01568627450980392, 0.0, 0.0, 0.0, 0.0, 0.0, 0.0, 0.0, 0.0, 0.0, 0.00784313725490196, 0.0, 0.0196078431372549, 0.7607843137254902, 0.7568627450980392, 0.8, 0.40784313725490196, 0.4549019607843137, 0.9450980392156862, 0.8509803921568627, 0.7686274509803922, 0.6705882352941176, 0.9764705882352941, 0.8117647058823529, 0.7725490196078432, 0.792156862745098, 0.17647058823529413, 0.0, 0.011764705882352941, 0.0, 0.0, 0.0, 0.0, 0.0, 0.0, 0.0, 0.0, 0.0, 0.0, 0.00392156862745098, 0.0, 0.0, 0.0, 0.08627450980392157, 0.08235294117647059, 0.09803921568627451, 0.27058823529411763, 0.20392156862745098, 0.17647058823529413, 0.2901960784313726, 0.15294117647058825, 0.011764705882352941, 0.0, 0.0, 0.0, 0.0, 0.00392156862745098, 0.0, 0.0, 0.0, 0.0], [0.0, 0.0, 0.0, 0.0, 0.0, 0.0, 0.0, 0.0, 0.0, 0.0, 0.0, 0.0, 0.1803921568627451, 0.0, 0.08235294117647059, 0.26666666666666666, 0.0, 0.0, 0.0, 0.0, 0.0, 0.0, 0.0, 0.0, 0.0, 0.0, 0.0, 0.0, 0.0, 0.0, 0.0, 0.0, 0.0, 0.0, 0.0, 0.0, 0.09803921568627451, 0.7333333333333333, 0.7411764705882353, 0.0, 0.4666666666666667, 0.6784313725490196, 0.9372549019607843, 0.4392156862745098, 0.0, 0.7411764705882353, 0.49019607843137253, 0.0, 0.0, 0.0, 0.0, 0.0, 0.0, 0.0, 0.0, 0.0, 0.0, 0.0, 0.0, 0.0, 0.0, 0.0, 0.0, 0.054901960784313725, 0.8588235294117647, 0.8784313725490196, 0.8274509803921568, 0.3607843137254902, 0.20392156862745098, 0.8901960784313725, 0.8784313725490196, 0.4980392156862745, 0.3607843137254902, 0.7686274509803922, 0.9294117647058824, 0.5333333333333333, 0.0, 0.0, 0.0, 0.0, 0.0, 0.0, 0.0, 0.0, 0.0, 0.0, 0.0, 0.0, 0.0, 0.0, 0.0, 0.41568627450980394, 0.9333333333333333, 0.792156862745098, 0.803921568627451, 0.8784313725490196, 0.8823529411764706, 0.8509803921568627, 0.8549019607843137, 0.8705882352941177, 0.8901960784313725, 0.792156862745098, 0.807843137254902, 0.8549019607843137, 0.0, 0.0, 0.0, 0.0, 0.0, 0.0, 0.0, 0.0, 0.0, 0.0, 0.0, 0.0, 0.0, 0.0, 0.0, 0.6509803921568628, 0.9372549019607843, 0.8470588235294118, 0.8392156862745098, 0.7529411764705882, 0.7098039215686275, 0.803921568627451, 0.8, 0.7058823529411765, 0.7333333333333333, 0.803921568627451, 0.8156862745098039, 0.9019607843137255, 0.17647058823529413, 0.0, 0.0, 0.0, 0.0, 0.0, 0.0, 0.0, 0.0, 0.0, 0.0, 0.0, 0.0, 0.0, 0.0, 0.8627450980392157, 0.9215686274509803, 0.9137254901960784, 0.8352941176470589, 0.803921568627451, 0.788235294117647, 0.7254901960784313, 0.7215686274509804, 0.7843137254901961, 0.7803921568627451, 0.8745098039215686, 0.8784313725490196, 0.9098039215686274, 0.396078431372549, 0.0, 0.0, 0.0, 0.0, 0.0, 0.0, 0.0, 0.0, 0.0, 0.0, 0.0, 0.0, 0.0, 0.0, 0.9882352941176471, 0.9333333333333333, 0.8862745098039215, 0.8862745098039215, 0.8666666666666667, 0.8784313725490196, 0.7647058823529411, 0.7764705882352941, 0.8745098039215686, 0.8980392156862745, 0.803921568627451, 0.792156862745098, 0.9215686274509803, 0.6196078431372549, 0.0, 0.0, 0.0, 0.0, 0.0, 0.0, 0.0, 0.0, 0.0, 0.0, 0.0, 0.0, 0.0, 0.03529411764705882, 0.8941176470588236, 0.9450980392156862, 0.49019607843137253, 0.9333333333333333, 0.8941176470588236, 0.8823529411764706, 0.8313725490196079, 0.8431372549019608, 0.8705882352941177, 0.9803921568627451, 0.6588235294117647, 0.5529411764705883, 0.9529411764705882, 0.7725490196078432, 0.0, 0.0, 0.0, 0.0, 0.0, 0.0, 0.0, 0.0, 0.0, 0.0, 0.0, 0.0, 0.0, 0.2, 0.9098039215686274, 0.9686274509803922, 0.13333333333333333, 0.8823529411764706, 0.9294117647058824, 0.8588235294117647, 0.8705882352941177, 0.8745098039215686, 0.8470588235294118, 0.9725490196078431, 0.7137254901960784, 0.48627450980392156, 0.9647058823529412, 0.7843137254901961, 0.0, 0.0, 0.0, 0.0, 0.0, 0.0, 0.0, 0.0, 0.0, 0.0, 0.0, 0.0, 0.0, 0.27058823529411763, 0.9254901960784314, 1.0, 0.0, 0.8549019607843137, 0.9411764705882353, 0.8588235294117647, 0.8666666666666667, 0.8705882352941177, 0.8392156862745098, 0.9882352941176471, 0.6, 0.2784313725490196, 0.9725490196078431, 0.8431372549019608, 0.0, 0.0, 0.0, 0.0, 0.0, 0.0, 0.0, 0.0, 0.0, 0.0, 0.0, 0.0, 0.0, 0.3215686274509804, 0.9725490196078431, 0.9686274509803922, 0.0, 0.9058823529411765, 0.9254901960784314, 0.8588235294117647, 0.8666666666666667, 0.8666666666666667, 0.8313725490196079, 0.9921568627450981, 0.42745098039215684, 0.0, 0.9686274509803922, 0.8784313725490196, 0.07450980392156863, 0.0, 0.0, 0.0, 0.0, 0.0, 0.0, 0.0, 0.0, 0.0, 0.0, 0.0, 0.0, 0.41568627450980394, 0.9882352941176471, 0.7764705882352941, 0.0, 0.9803921568627451, 0.9019607843137255, 0.8627450980392157, 0.8588235294117647, 0.8588235294117647, 0.8313725490196079, 0.9882352941176471, 0.5058823529411764, 0.0, 1.0, 0.9098039215686274, 0.23137254901960785, 0.0, 0.0, 0.0, 0.0, 0.0, 0.0, 0.0, 0.0, 0.0, 0.0, 0.0, 0.0, 0.5254901960784314, 0.9882352941176471, 0.5882352941176471, 0.0, 0.996078431372549, 0.8431372549019608, 0.8588235294117647, 0.8588235294117647, 0.8588235294117647, 0.8470588235294118, 0.9137254901960784, 0.8705882352941177, 0.0, 0.9921568627450981, 0.9294117647058824, 0.34901960784313724, 0.0, 0.0, 0.0, 0.0, 0.0, 0.0, 0.0, 0.0, 0.0, 0.0, 0.0, 0.0, 0.6392156862745098, 0.9921568627450981, 0.49411764705882355, 0.45098039215686275, 0.9921568627450981, 0.8274509803921568, 0.8705882352941177, 0.8627450980392157, 0.8588235294117647, 0.8588235294117647, 0.8352941176470589, 0.9921568627450981, 0.21176470588235294, 0.807843137254902, 0.9529411764705882, 0.5647058823529412, 0.0, 0.0, 0.0, 0.0, 0.0, 0.0, 0.0, 0.0, 0.0, 0.0, 0.0, 0.0, 0.803921568627451, 1.0, 0.5843137254901961, 0.8196078431372549, 0.9176470588235294, 0.8588235294117647, 0.8666666666666667, 0.8627450980392157, 0.8588235294117647, 0.8588235294117647, 0.8352941176470589, 0.9568627450980393, 0.6431372549019608, 0.8784313725490196, 0.9411764705882353, 0.7647058823529411, 0.0, 0.0, 0.0, 0.0, 0.0, 0.0, 0.0, 0.0, 0.0, 0.0, 0.0, 0.0, 0.03529411764705882, 0.0, 0.0784313725490196, 0.9921568627450981, 0.8588235294117647, 0.8666666666666667, 0.8588235294117647, 0.8588235294117647, 0.8588235294117647, 0.8588235294117647, 0.8666666666666667, 0.8784313725490196, 0.9019607843137255, 0.0, 0.0, 0.0, 0.0, 0.0, 0.0, 0.0, 0.0, 0.0, 0.0, 0.0, 0.0, 0.0, 0.0, 0.0, 0.0, 0.0, 0.19215686274509805, 0.996078431372549, 0.8509803921568627, 0.8666666666666667, 0.8588235294117647, 0.8588235294117647, 0.8588235294117647, 0.8627450980392157, 0.8666666666666667, 0.8470588235294118, 0.9921568627450981, 0.027450980392156862, 0.0, 0.0, 0.0, 0.0, 0.0, 0.0, 0.0, 0.0, 0.0, 0.0, 0.0, 0.0, 0.0, 0.0, 0.023529411764705882, 0.0, 0.3686274509803922, 0.8980392156862745, 0.8470588235294118, 0.8627450980392157, 0.8549019607843137, 0.8549019607843137, 0.8588235294117647, 0.8627450980392157, 0.8588235294117647, 0.8549019607843137, 0.8862745098039215, 0.20392156862745098, 0.0, 0.0196078431372549, 0.0, 0.0, 0.0, 0.0, 0.0, 0.0, 0.0, 0.0, 0.0, 0.0, 0.0, 0.0, 0.01568627450980392, 0.0, 0.4666666666666667, 0.9058823529411765, 0.8392156862745098, 0.8627450980392157, 0.8509803921568627, 0.8549019607843137, 0.8588235294117647, 0.8627450980392157, 0.8666666666666667, 0.8509803921568627, 0.8784313725490196, 0.13333333333333333, 0.0, 0.011764705882352941, 0.0, 0.0, 0.0, 0.0, 0.0, 0.0, 0.0, 0.0, 0.0, 0.0, 0.0, 0.0, 0.011764705882352941, 0.0, 0.44313725490196076, 0.9058823529411765, 0.8352941176470589, 0.8705882352941177, 0.8509803921568627, 0.8549019607843137, 0.8588235294117647, 0.8627450980392157, 0.8588235294117647, 0.8588235294117647, 0.8588235294117647, 0.0392156862745098, 0.0, 0.00784313725490196, 0.0, 0.0, 0.0, 0.0, 0.0, 0.0, 0.0, 0.0, 0.0, 0.0, 0.0, 0.0, 0.011764705882352941, 0.0, 0.2, 0.8901960784313725, 0.8431372549019608, 0.8666666666666667, 0.8509803921568627, 0.8509803921568627, 0.8588235294117647, 0.8627450980392157, 0.8549019607843137, 0.8588235294117647, 0.8352941176470589, 0.0, 0.0, 0.00392156862745098, 0.0, 0.0, 0.0, 0.0, 0.0, 0.0, 0.0, 0.0, 0.0, 0.0, 0.0, 0.0, 0.00784313725490196, 0.0, 0.0, 0.8470588235294118, 0.8509803921568627, 0.8588235294117647, 0.8549019607843137, 0.8549019607843137, 0.8588235294117647, 0.8588235294117647, 0.8549019607843137, 0.8627450980392157, 0.9647058823529412, 0.0, 0.0, 0.00784313725490196, 0.0, 0.0, 0.0, 0.0, 0.0, 0.0, 0.0, 0.0, 0.0, 0.0, 0.0, 0.0, 0.00784313725490196, 0.0, 0.0, 0.8509803921568627, 0.8470588235294118, 0.8470588235294118, 0.8588235294117647, 0.8549019607843137, 0.8588235294117647, 0.8588235294117647, 0.8509803921568627, 0.8705882352941177, 0.9215686274509803, 0.0, 0.0, 0.00784313725490196, 0.0, 0.0, 0.0, 0.0, 0.0, 0.0, 0.0, 0.0, 0.0, 0.0, 0.0, 0.0, 0.00784313725490196, 0.0, 0.0, 0.8313725490196079, 0.8470588235294118, 0.8509803921568627, 0.8588235294117647, 0.8549019607843137, 0.8588235294117647, 0.8588235294117647, 0.8470588235294118, 0.8784313725490196, 0.8, 0.0, 0.0, 0.00784313725490196, 0.0, 0.0, 0.0, 0.0, 0.0, 0.0, 0.0, 0.0, 0.0, 0.0, 0.0, 0.0, 0.01568627450980392, 0.0, 0.011764705882352941, 0.8509803921568627, 0.8470588235294118, 0.8509803921568627, 0.8588235294117647, 0.8549019607843137, 0.8627450980392157, 0.8627450980392157, 0.8549019607843137, 0.8705882352941177, 0.8196078431372549, 0.0, 0.0, 0.00784313725490196, 0.0, 0.0, 0.0, 0.0, 0.0, 0.0, 0.0, 0.0, 0.0, 0.0, 0.0, 0.0, 0.011764705882352941, 0.0, 0.01568627450980392, 0.8392156862745098, 0.8274509803921568, 0.8352941176470589, 0.8352941176470589, 0.8431372549019608, 0.8352941176470589, 0.8274509803921568, 0.8392156862745098, 0.8627450980392157, 0.7843137254901961, 0.0, 0.0, 0.00392156862745098, 0.0, 0.0, 0.0, 0.0, 0.0, 0.0, 0.0, 0.0, 0.0, 0.0, 0.0, 0.0, 0.011764705882352941, 0.0, 0.0, 0.8392156862745098, 0.9098039215686274, 0.8980392156862745, 0.9764705882352941, 0.9607843137254902, 0.9725490196078431, 0.9882352941176471, 0.9019607843137255, 0.9294117647058824, 0.8980392156862745, 0.0, 0.0, 0.00392156862745098, 0.0, 0.0, 0.0, 0.0, 0.0, 0.0, 0.0, 0.0, 0.0, 0.0, 0.0, 0.0, 0.0, 0.0, 0.0, 0.26666666666666666, 0.4549019607843137, 0.4392156862745098, 0.5333333333333333, 0.5764705882352941, 0.5647058823529412, 0.4745098039215686, 0.4, 0.24705882352941178, 0.0, 0.0, 0.0, 0.0, 0.0, 0.0, 0.0, 0.0, 0.0, 0.0], [0.0, 0.0, 0.0, 0.0196078431372549, 0.01568627450980392, 0.0196078431372549, 0.0196078431372549, 0.011764705882352941, 0.0196078431372549, 0.023529411764705882, 0.00784313725490196, 0.0, 0.0, 0.0, 0.0, 0.0, 0.0, 0.0, 0.00784313725490196, 0.011764705882352941, 0.027450980392156862, 0.01568627450980392, 0.01568627450980392, 0.0196078431372549, 0.0196078431372549, 0.0, 0.0, 0.0, 0.0, 0.0, 0.0, 0.01568627450980392, 0.0196078431372549, 0.01568627450980392, 0.0196078431372549, 0.043137254901960784, 0.00784313725490196, 0.0, 0.0, 0.08235294117647059, 0.9058823529411765, 0.611764705882353, 0.5254901960784314, 0.6941176470588235, 0.7607843137254902, 0.00392156862745098, 0.0, 0.0, 0.0, 0.0392156862745098, 0.0196078431372549, 0.0196078431372549, 0.01568627450980392, 0.0, 0.0, 0.0, 0.0, 0.0, 0.0, 0.01568627450980392, 0.0196078431372549, 0.011764705882352941, 0.027450980392156862, 0.0, 0.0, 0.10196078431372549, 0.4392156862745098, 0.6588235294117647, 0.6352941176470588, 0.8313725490196079, 0.8862745098039215, 0.7803921568627451, 0.5725490196078431, 0.6588235294117647, 0.48627450980392156, 0.09803921568627451, 0.0, 0.0, 0.0, 0.01568627450980392, 0.0196078431372549, 0.0, 0.0, 0.0, 0.0, 0.0, 0.0, 0.01568627450980392, 0.0196078431372549, 0.03137254901960784, 0.0, 0.058823529411764705, 0.37254901960784315, 0.5568627450980392, 0.6666666666666666, 0.5647058823529412, 0.4823529411764706, 0.611764705882353, 0.6745098039215687, 0.5490196078431373, 0.5137254901960784, 0.5294117647058824, 0.6274509803921569, 0.5372549019607843, 0.5529411764705883, 0.20784313725490197, 0.0, 0.0, 0.011764705882352941, 0.0, 0.0, 0.0, 0.0, 0.0, 0.0, 0.0196078431372549, 0.023529411764705882, 0.0, 0.0, 0.6470588235294118, 0.5098039215686274, 0.47058823529411764, 0.5098039215686274, 0.2196078431372549, 0.48627450980392156, 0.47843137254901963, 0.26666666666666666, 0.5607843137254902, 0.43529411764705883, 0.3843137254901961, 0.5176470588235295, 0.49019607843137253, 0.43529411764705883, 0.6431372549019608, 0.23529411764705882, 0.0, 0.023529411764705882, 0.0, 0.0, 0.0, 0.0, 0.0, 0.0, 0.011764705882352941, 0.027450980392156862, 0.0, 0.38823529411764707, 0.6470588235294118, 0.5294117647058824, 0.6039215686274509, 0.3843137254901961, 0.25882352941176473, 0.5098039215686274, 0.5529411764705883, 0.4470588235294118, 0.5607843137254902, 0.44313725490196076, 0.2784313725490196, 0.4196078431372549, 0.5764705882352941, 0.4588235294117647, 0.6901960784313725, 0.6745098039215687, 0.0, 0.0196078431372549, 0.0, 0.0, 0.0, 0.0, 0.0, 0.0, 0.01568627450980392, 0.0, 0.0, 0.7725490196078432, 0.7372549019607844, 0.6627450980392157, 0.5803921568627451, 0.5725490196078431, 0.5176470588235295, 0.43137254901960786, 0.5215686274509804, 0.4196078431372549, 0.5450980392156862, 0.5137254901960784, 0.5215686274509804, 0.5529411764705883, 0.611764705882353, 0.5607843137254902, 0.6666666666666666, 0.7294117647058823, 0.0, 0.0, 0.0, 0.0, 0.0, 0.0, 0.0, 0.0, 0.023529411764705882, 0.0, 0.0, 0.8823529411764706, 0.5098039215686274, 0.5490196078431373, 0.6627450980392157, 0.5803921568627451, 0.43137254901960786, 0.17647058823529413, 0.4588235294117647, 0.5372549019607843, 0.4627450980392157, 0.20784313725490197, 0.3803921568627451, 0.5764705882352941, 0.5764705882352941, 0.6039215686274509, 0.5215686274509804, 0.792156862745098, 0.07058823529411765, 0.0, 0.0, 0.0, 0.0, 0.0, 0.0, 0.0, 0.027450980392156862, 0.0, 0.18823529411764706, 0.8274509803921568, 0.5294117647058824, 0.48627450980392156, 0.5490196078431373, 0.3254901960784314, 0.6196078431372549, 0.5686274509803921, 0.6274509803921569, 0.49411764705882355, 0.592156862745098, 0.5333333333333333, 0.611764705882353, 0.44313725490196076, 0.43137254901960786, 0.6549019607843137, 0.6588235294117647, 0.8509803921568627, 0.36470588235294116, 0.0, 0.0, 0.0, 0.0, 0.0, 0.0, 0.0, 0.023529411764705882, 0.0, 0.40784313725490196, 0.8588235294117647, 0.8156862745098039, 0.6509803921568628, 0.615686274509804, 0.5098039215686274, 0.6666666666666666, 0.5372549019607843, 0.5647058823529412, 0.6078431372549019, 0.6274509803921569, 0.5882352941176471, 0.6274509803921569, 0.6196078431372549, 0.47058823529411764, 0.7607843137254902, 0.8627450980392157, 0.8352941176470589, 0.5019607843137255, 0.0, 0.0, 0.0, 0.0, 0.0, 0.0, 0.0, 0.023529411764705882, 0.0, 0.5215686274509804, 0.8352941176470589, 0.9215686274509803, 0.807843137254902, 0.6627450980392157, 0.7607843137254902, 0.5450980392156862, 0.2980392156862745, 0.4666666666666667, 0.6980392156862745, 0.5450980392156862, 0.38823529411764707, 0.47058823529411764, 0.7803921568627451, 0.6549019607843137, 0.7450980392156863, 0.8862745098039215, 0.8235294117647058, 0.596078431372549, 0.0, 0.0, 0.0, 0.0, 0.0, 0.0, 0.0, 0.01568627450980392, 0.0, 0.6470588235294118, 0.8196078431372549, 0.9137254901960784, 0.9294117647058824, 0.5137254901960784, 0.6196078431372549, 0.592156862745098, 0.48627450980392156, 0.5764705882352941, 0.615686274509804, 0.5843137254901961, 0.4235294117647059, 0.5372549019607843, 0.7333333333333333, 0.3803921568627451, 0.5764705882352941, 0.9137254901960784, 0.8, 0.7215686274509804, 0.0, 0.0, 0.0, 0.0, 0.0, 0.0, 0.0, 0.0, 0.0, 0.7803921568627451, 0.792156862745098, 0.9137254901960784, 0.9607843137254902, 0.6470588235294118, 0.2980392156862745, 0.5411764705882353, 0.6823529411764706, 0.6274509803921569, 0.5803921568627451, 0.6235294117647059, 0.6078431372549019, 0.6392156862745098, 0.49019607843137253, 0.35294117647058826, 0.9019607843137255, 0.8941176470588236, 0.796078431372549, 0.8235294117647058, 0.0, 0.0, 0.0, 0.0, 0.0, 0.0, 0.0, 0.0, 0.0, 0.8549019607843137, 0.7686274509803922, 0.9333333333333333, 0.9764705882352941, 0.8, 0.396078431372549, 0.5607843137254902, 0.7215686274509804, 0.6705882352941176, 0.5843137254901961, 0.6392156862745098, 0.6784313725490196, 0.6196078431372549, 0.403921568627451, 0.5176470588235295, 1.0, 0.8509803921568627, 0.803921568627451, 0.8705882352941177, 0.0, 0.0, 0.0, 0.0, 0.0, 0.0, 0.0, 0.0, 0.0, 0.9176470588235294, 0.7568627450980392, 0.9294117647058824, 1.0, 0.6627450980392157, 0.5450980392156862, 0.7803921568627451, 0.7137254901960784, 0.7098039215686275, 0.6039215686274509, 0.6705882352941176, 0.7294117647058823, 0.7098039215686275, 0.6039215686274509, 0.5803921568627451, 0.9490196078431372, 0.8470588235294118, 0.8156862745098039, 0.8627450980392157, 0.0, 0.0, 0.0, 0.0, 0.0, 0.0, 0.0, 0.0, 0.027450980392156862, 0.9372549019607843, 0.7450980392156863, 0.9529411764705882, 0.9058823529411765, 0.403921568627451, 0.6431372549019608, 0.5647058823529412, 0.34509803921568627, 0.7372549019607844, 0.615686274509804, 0.6941176470588235, 0.6039215686274509, 0.4627450980392157, 0.7098039215686275, 0.4117647058823529, 0.8862745098039215, 0.8745098039215686, 0.8235294117647058, 0.8588235294117647, 0.0, 0.0, 0.0, 0.0, 0.0, 0.0, 0.0, 0.0, 0.11764705882352941, 0.9490196078431372, 0.7333333333333333, 0.9647058823529412, 0.7686274509803922, 0.36470588235294116, 0.6352941176470588, 0.45098039215686275, 0.3568627450980392, 0.7333333333333333, 0.592156862745098, 0.7137254901960784, 0.4470588235294118, 0.2549019607843137, 0.6196078431372549, 0.4549019607843137, 0.6901960784313725, 0.8627450980392157, 0.8470588235294118, 0.8745098039215686, 0.0, 0.0, 0.0, 0.0, 0.0, 0.0, 0.0, 0.0, 0.1803921568627451, 0.807843137254902, 0.7333333333333333, 0.9294117647058824, 0.611764705882353, 0.41568627450980394, 0.7294117647058823, 0.7058823529411765, 0.6980392156862745, 0.6784313725490196, 0.6274509803921569, 0.6901960784313725, 0.7058823529411765, 0.6313725490196078, 0.7372549019607844, 0.5333333333333333, 0.5215686274509804, 0.8862745098039215, 0.8588235294117647, 0.8588235294117647, 0.0784313725490196, 0.0, 0.0, 0.0, 0.0, 0.0, 0.0, 0.0, 0.2980392156862745, 0.8156862745098039, 0.7254901960784313, 0.9764705882352941, 0.596078431372549, 0.5843137254901961, 0.6705882352941176, 0.43137254901960786, 0.6392156862745098, 0.6823529411764706, 0.6274509803921569, 0.6549019607843137, 0.7450980392156863, 0.5411764705882353, 0.5843137254901961, 0.6039215686274509, 0.5764705882352941, 0.8823529411764706, 0.8470588235294118, 0.807843137254902, 0.17647058823529413, 0.0, 0.0, 0.0, 0.0, 0.0, 0.0, 0.0, 0.34901960784313724, 0.792156862745098, 0.7294117647058823, 0.8862745098039215, 0.596078431372549, 0.6549019607843137, 0.47843137254901963, 0.2901960784313726, 0.592156862745098, 0.7333333333333333, 0.5843137254901961, 0.6509803921568628, 0.7137254901960784, 0.44313725490196076, 0.2784313725490196, 0.5215686274509804, 0.6588235294117647, 0.8156862745098039, 0.8549019607843137, 0.7019607843137254, 0.09803921568627451, 0.0, 0.0, 0.0, 0.0, 0.0, 0.0, 0.0, 0.4235294117647059, 0.7568627450980392, 0.7058823529411765, 0.7725490196078432, 0.596078431372549, 0.6078431372549019, 0.6274509803921569, 0.45098039215686275, 0.6588235294117647, 0.7529411764705882, 0.6039215686274509, 0.6313725490196078, 0.7568627450980392, 0.5529411764705883, 0.47843137254901963, 0.6235294117647059, 0.611764705882353, 0.7568627450980392, 0.8352941176470589, 0.6666666666666666, 0.11372549019607843, 0.0, 0.0, 0.0, 0.0, 0.0, 0.0, 0.0, 0.5529411764705883, 0.7568627450980392, 0.6666666666666666, 0.6627450980392157, 0.592156862745098, 0.6313725490196078, 0.6392156862745098, 0.6, 0.6588235294117647, 0.7764705882352941, 0.6078431372549019, 0.6, 0.7372549019607844, 0.6431372549019608, 0.6313725490196078, 0.6666666666666666, 0.5803921568627451, 0.7647058823529411, 0.8235294117647058, 0.7372549019607844, 0.23529411764705882, 0.0, 0.0, 0.0, 0.0, 0.0, 0.0, 0.0, 0.6980392156862745, 0.7215686274509804, 0.7372549019607844, 0.6392156862745098, 0.5803921568627451, 0.6274509803921569, 0.6392156862745098, 0.6431372549019608, 0.6352941176470588, 0.792156862745098, 0.6078431372549019, 0.611764705882353, 0.7333333333333333, 0.6588235294117647, 0.596078431372549, 0.6745098039215687, 0.5803921568627451, 0.6784313725490196, 0.8117647058823529, 0.8784313725490196, 0.39215686274509803, 0.0, 0.0, 0.0, 0.0, 0.0, 0.0, 0.0, 0.7372549019607844, 0.7098039215686275, 0.8, 0.7607843137254902, 0.5725490196078431, 0.6196078431372549, 0.6313725490196078, 0.6627450980392157, 0.6941176470588235, 0.7254901960784313, 0.6039215686274509, 0.5803921568627451, 0.6588235294117647, 0.6627450980392157, 0.615686274509804, 0.6313725490196078, 0.6078431372549019, 0.7372549019607844, 0.8196078431372549, 0.7450980392156863, 0.24313725490196078, 0.0, 0.0, 0.0, 0.0, 0.0, 0.0, 0.0, 0.4588235294117647, 0.7764705882352941, 0.7411764705882353, 0.3137254901960784, 0.8470588235294118, 0.788235294117647, 0.803921568627451, 0.803921568627451, 0.8196078431372549, 0.9137254901960784, 0.7411764705882353, 0.7725490196078432, 0.8274509803921568, 0.792156862745098, 0.7843137254901961, 0.788235294117647, 0.8235294117647058, 0.5882352941176471, 0.8627450980392157, 0.7725490196078432, 0.2823529411764706, 0.0, 0.0, 0.0, 0.0, 0.0, 0.0, 0.0, 0.592156862745098, 0.8392156862745098, 0.7098039215686275, 0.023529411764705882, 0.6, 0.3215686274509804, 0.2196078431372549, 0.11764705882352941, 0.011764705882352941, 0.0, 0.28627450980392155, 0.2901960784313726, 0.1607843137254902, 0.10980392156862745, 0.11764705882352941, 0.1803921568627451, 0.3058823529411765, 0.050980392156862744, 0.788235294117647, 0.5725490196078431, 0.15294117647058825, 0.0, 0.0, 0.0, 0.0, 0.0, 0.0, 0.0, 0.027450980392156862, 0.13333333333333333, 0.22745098039215686, 0.0, 0.0, 0.0, 0.0, 0.0, 0.0, 0.0, 0.0, 0.0, 0.0, 0.0, 0.0, 0.0, 0.0, 0.0, 0.0, 0.0, 0.0, 0.0, 0.0, 0.0, 0.0, 0.0, 0.0, 0.01568627450980392, 0.0, 0.0, 0.0, 0.00784313725490196, 0.01568627450980392, 0.03529411764705882, 0.027450980392156862, 0.03137254901960784, 0.027450980392156862, 0.0196078431372549, 0.01568627450980392, 0.03137254901960784, 0.047058823529411764, 0.0196078431372549, 0.027450980392156862, 0.03137254901960784, 0.027450980392156862, 0.01568627450980392, 0.011764705882352941, 0.027450980392156862, 0.0196078431372549, 0.0, 0.0, 0.0]]\n"
     ]
    }
   ],
   "source": [
    "df = train_images2.loc[:5]\n",
    "\n",
    "df = df.values.tolist()\n",
    "\n",
    "print(df)"
   ]
  },
  {
   "cell_type": "code",
   "execution_count": null,
   "metadata": {},
   "outputs": [],
   "source": []
  }
 ],
 "metadata": {
  "colab": {
   "collapsed_sections": [],
   "name": "classification.ipynb",
   "toc_visible": true
  },
  "kernelspec": {
   "display_name": "Python 3",
   "language": "python",
   "name": "python3"
  },
  "language_info": {
   "codemirror_mode": {
    "name": "ipython",
    "version": 3
   },
   "file_extension": ".py",
   "mimetype": "text/x-python",
   "name": "python",
   "nbconvert_exporter": "python",
   "pygments_lexer": "ipython3",
   "version": "3.10.9"
  },
  "vscode": {
   "interpreter": {
    "hash": "aee8b7b246df8f9039afb4144a1f6fd8d2ca17a180786b69acc140d282b71a49"
   }
  }
 },
 "nbformat": 4,
 "nbformat_minor": 0
}
